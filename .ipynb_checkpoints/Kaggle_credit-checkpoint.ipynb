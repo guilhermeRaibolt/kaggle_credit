{
 "cells": [
  {
   "cell_type": "code",
   "execution_count": 1,
   "metadata": {
    "_cell_guid": "b1076dfc-b9ad-4769-8c92-a6c4dae69d19",
    "_uuid": "8f2839f25d086af736a60e9eeb907d3b93b6e0e5",
    "execution": {
     "iopub.execute_input": "2023-08-14T23:56:04.595685Z",
     "iopub.status.busy": "2023-08-14T23:56:04.595021Z",
     "iopub.status.idle": "2023-08-14T23:56:04.608237Z",
     "shell.execute_reply": "2023-08-14T23:56:04.607117Z",
     "shell.execute_reply.started": "2023-08-14T23:56:04.595620Z"
    }
   },
   "outputs": [],
   "source": [
    "# # This Python 3 environment comes with many helpful analytics libraries installed\n",
    "# # It is defined by the kaggle/python Docker image: https://github.com/kaggle/docker-python\n",
    "# # For example, here's several helpful packages to load\n",
    "\n",
    "# import numpy as np # linear algebra\n",
    "# import pandas as pd # data processing, CSV file I/O (e.g. pd.read_csv)\n",
    "\n",
    "# # Input data files are available in the read-only \"../input/\" directory\n",
    "# # For example, running this (by clicking run or pressing Shift+Enter) will list all files under the input directory\n",
    "\n",
    "# import os\n",
    "# for dirname, _, filenames in os.walk('/kaggle/input'):\n",
    "#     for filename in filenames:\n",
    "#         print(os.path.join(dirname, filename))\n",
    "\n",
    "# # You can write up to 20GB to the current directory (/kaggle/working/) that gets preserved as output when you create a version using \"Save & Run All\" \n",
    "# # You can also write temporary files to /kaggle/temp/, but they won't be saved outside of the current session"
   ]
  },
  {
   "cell_type": "code",
   "execution_count": 2,
   "metadata": {
    "execution": {
     "iopub.execute_input": "2023-08-14T23:56:04.611121Z",
     "iopub.status.busy": "2023-08-14T23:56:04.610338Z",
     "iopub.status.idle": "2023-08-14T23:56:20.292902Z",
     "shell.execute_reply": "2023-08-14T23:56:20.291013Z",
     "shell.execute_reply.started": "2023-08-14T23:56:04.611074Z"
    }
   },
   "outputs": [
    {
     "name": "stdout",
     "output_type": "stream",
     "text": [
      "Requirement already satisfied: xlrd in c:\\users\\guief\\anaconda3\\lib\\site-packages (2.0.1)\n"
     ]
    },
    {
     "name": "stderr",
     "output_type": "stream",
     "text": [
      "WARNING: Ignoring invalid distribution -ffi (c:\\users\\guief\\anaconda3\\lib\\site-packages)\n",
      "WARNING: Ignoring invalid distribution -ffi (c:\\users\\guief\\anaconda3\\lib\\site-packages)\n",
      "WARNING: Ignoring invalid distribution -ffi (c:\\users\\guief\\anaconda3\\lib\\site-packages)\n",
      "WARNING: Ignoring invalid distribution -ffi (c:\\users\\guief\\anaconda3\\lib\\site-packages)\n",
      "WARNING: Ignoring invalid distribution -ffi (c:\\users\\guief\\anaconda3\\lib\\site-packages)\n",
      "WARNING: Ignoring invalid distribution -ffi (c:\\users\\guief\\anaconda3\\lib\\site-packages)\n",
      "\n",
      "[notice] A new release of pip is available: 23.0 -> 23.2.1\n",
      "[notice] To update, run: python.exe -m pip install --upgrade pip\n"
     ]
    }
   ],
   "source": [
    "#!pip install xlrd"
   ]
  },
  {
   "cell_type": "code",
   "execution_count": 3,
   "metadata": {
    "execution": {
     "iopub.execute_input": "2023-08-14T23:56:20.296370Z",
     "iopub.status.busy": "2023-08-14T23:56:20.295183Z",
     "iopub.status.idle": "2023-08-14T23:56:20.370704Z",
     "shell.execute_reply": "2023-08-14T23:56:20.369690Z",
     "shell.execute_reply.started": "2023-08-14T23:56:20.296319Z"
    }
   },
   "outputs": [],
   "source": [
    "# Kaggle code:\n",
    "\n",
    "# pd.set_option('display.max_colwidth', None)\n",
    "# data_dict = pd.read_excel('/kaggle/input/GiveMeSomeCredit/Data Dictionary.xls')\n",
    "# data_dict"
   ]
  },
  {
   "cell_type": "code",
   "execution_count": null,
   "metadata": {},
   "outputs": [],
   "source": [
    "import pandas as pd\n",
    "import numpy as np\n",
    "import seaborn as sns\n",
    "import m"
   ]
  },
  {
   "cell_type": "code",
   "execution_count": 4,
   "metadata": {},
   "outputs": [
    {
     "ename": "NameError",
     "evalue": "name 'pd' is not defined",
     "output_type": "error",
     "traceback": [
      "\u001b[1;31m---------------------------------------------------------------------------\u001b[0m",
      "\u001b[1;31mNameError\u001b[0m                                 Traceback (most recent call last)",
      "Input \u001b[1;32mIn [4]\u001b[0m, in \u001b[0;36m<cell line: 1>\u001b[1;34m()\u001b[0m\n\u001b[1;32m----> 1\u001b[0m \u001b[43mpd\u001b[49m\u001b[38;5;241m.\u001b[39mset_option(\u001b[38;5;124m'\u001b[39m\u001b[38;5;124mdisplay.max_colwidth\u001b[39m\u001b[38;5;124m'\u001b[39m, \u001b[38;5;28;01mNone\u001b[39;00m)\n\u001b[0;32m      2\u001b[0m data_dict \u001b[38;5;241m=\u001b[39m pd\u001b[38;5;241m.\u001b[39mread_excel(\u001b[38;5;124m'\u001b[39m\u001b[38;5;124minput/Data Dictionary.xls\u001b[39m\u001b[38;5;124m'\u001b[39m)\n\u001b[0;32m      3\u001b[0m data_dict\n",
      "\u001b[1;31mNameError\u001b[0m: name 'pd' is not defined"
     ]
    }
   ],
   "source": [
    "pd.set_option('display.max_colwidth', None)\n",
    "data_dict = pd.read_excel('input/Data Dictionary.xls')\n",
    "data_dict"
   ]
  },
  {
   "cell_type": "code",
   "execution_count": null,
   "metadata": {
    "execution": {
     "iopub.execute_input": "2023-08-14T23:57:02.836798Z",
     "iopub.status.busy": "2023-08-14T23:57:02.836343Z",
     "iopub.status.idle": "2023-08-14T23:57:03.202564Z",
     "shell.execute_reply": "2023-08-14T23:57:03.201209Z",
     "shell.execute_reply.started": "2023-08-14T23:57:02.836761Z"
    }
   },
   "outputs": [],
   "source": [
    "train = pd.read_csv('input/cs-training.csv')\n",
    "test = pd.read_csv('input/cs-test.csv')\n",
    "train.head(10)"
   ]
  },
  {
   "cell_type": "code",
   "execution_count": null,
   "metadata": {
    "execution": {
     "iopub.execute_input": "2023-08-14T23:57:06.864937Z",
     "iopub.status.busy": "2023-08-14T23:57:06.863525Z",
     "iopub.status.idle": "2023-08-14T23:57:20.657687Z",
     "shell.execute_reply": "2023-08-14T23:57:20.655762Z",
     "shell.execute_reply.started": "2023-08-14T23:57:06.864890Z"
    }
   },
   "outputs": [],
   "source": [
    "!pip install missingno"
   ]
  },
  {
   "cell_type": "code",
   "execution_count": null,
   "metadata": {
    "execution": {
     "iopub.execute_input": "2023-08-14T23:57:23.855451Z",
     "iopub.status.busy": "2023-08-14T23:57:23.854347Z",
     "iopub.status.idle": "2023-08-14T23:57:25.550189Z",
     "shell.execute_reply": "2023-08-14T23:57:25.549207Z",
     "shell.execute_reply.started": "2023-08-14T23:57:23.855385Z"
    }
   },
   "outputs": [],
   "source": [
    "import missingno as msno\n",
    "msno.matrix(train)"
   ]
  },
  {
   "cell_type": "markdown",
   "metadata": {},
   "source": [
    "Looks like MonthlyIncome has a lot of NaN and i'm not sure why"
   ]
  },
  {
   "cell_type": "code",
   "execution_count": null,
   "metadata": {
    "execution": {
     "iopub.execute_input": "2023-08-14T23:58:33.453893Z",
     "iopub.status.busy": "2023-08-14T23:58:33.453455Z",
     "iopub.status.idle": "2023-08-14T23:58:33.470716Z",
     "shell.execute_reply": "2023-08-14T23:58:33.469296Z",
     "shell.execute_reply.started": "2023-08-14T23:58:33.453860Z"
    }
   },
   "outputs": [],
   "source": [
    "print(f\"Percentage of NaN - Monthly Income: {train.loc[train['MonthlyIncome'].isnull()].shape[0]/train.shape[0]}\")\n",
    "\n",
    "print(f\"Percentage of NaN - Number of dependents: {train.loc[train['NumberOfDependents'].isnull()].shape[0]/train.shape[0]}\")"
   ]
  },
  {
   "cell_type": "markdown",
   "metadata": {},
   "source": [
    "# Data Cleaning"
   ]
  },
  {
   "cell_type": "code",
   "execution_count": null,
   "metadata": {
    "execution": {
     "iopub.execute_input": "2023-08-14T23:58:32.004272Z",
     "iopub.status.busy": "2023-08-14T23:58:32.003818Z",
     "iopub.status.idle": "2023-08-14T23:58:32.140499Z",
     "shell.execute_reply": "2023-08-14T23:58:32.139444Z",
     "shell.execute_reply.started": "2023-08-14T23:58:32.004233Z"
    }
   },
   "outputs": [],
   "source": [
    "import seaborn as sns\n",
    "\n",
    "train.describe()"
   ]
  },
  {
   "cell_type": "markdown",
   "metadata": {},
   "source": [
    "## Age"
   ]
  },
  {
   "cell_type": "code",
   "execution_count": null,
   "metadata": {
    "execution": {
     "iopub.status.busy": "2023-08-14T23:57:21.529584Z",
     "iopub.status.idle": "2023-08-14T23:57:21.530514Z",
     "shell.execute_reply": "2023-08-14T23:57:21.530309Z",
     "shell.execute_reply.started": "2023-08-14T23:57:21.530286Z"
    }
   },
   "outputs": [],
   "source": [
    "import numpy as np\n",
    "import seaborn as sns\n",
    "import matplotlib.pyplot as plt\n",
    "\n",
    "ages = train['age']\n",
    "\n",
    "bins = np.linspace(0, 18, 19)\n",
    "\n",
    "plt.hist(ages, bins=bins, edgecolor='black')\n",
    "plt.xlabel('age')\n",
    "plt.ylabel('frequency')\n",
    "plt.xlim(0, 18)\n",
    "plt.show()"
   ]
  },
  {
   "cell_type": "code",
   "execution_count": null,
   "metadata": {
    "execution": {
     "iopub.status.busy": "2023-08-14T23:57:21.531639Z",
     "iopub.status.idle": "2023-08-14T23:57:21.532544Z",
     "shell.execute_reply": "2023-08-14T23:57:21.532359Z",
     "shell.execute_reply.started": "2023-08-14T23:57:21.532338Z"
    }
   },
   "outputs": [],
   "source": [
    "# Imputing mean since data is not that skewed (age == 0 only happened once)\n",
    "train.loc[df['age'] == 0,'age'] = train['age'].mean()"
   ]
  },
  {
   "cell_type": "code",
   "execution_count": null,
   "metadata": {},
   "outputs": [],
   "source": []
  }
 ],
 "metadata": {
  "kernelspec": {
   "display_name": "Python 3 (ipykernel)",
   "language": "python",
   "name": "python3"
  },
  "language_info": {
   "codemirror_mode": {
    "name": "ipython",
    "version": 3
   },
   "file_extension": ".py",
   "mimetype": "text/x-python",
   "name": "python",
   "nbconvert_exporter": "python",
   "pygments_lexer": "ipython3",
   "version": "3.9.12"
  },
  "toc": {
   "base_numbering": 1,
   "nav_menu": {},
   "number_sections": true,
   "sideBar": true,
   "skip_h1_title": false,
   "title_cell": "Table of Contents",
   "title_sidebar": "Contents",
   "toc_cell": false,
   "toc_position": {},
   "toc_section_display": true,
   "toc_window_display": false
  }
 },
 "nbformat": 4,
 "nbformat_minor": 4
}
