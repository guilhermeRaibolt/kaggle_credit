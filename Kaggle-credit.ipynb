{
 "cells": [
  {
   "cell_type": "markdown",
   "id": "4a5e405a",
   "metadata": {
    "papermill": {
     "duration": 0.027292,
     "end_time": "2023-08-27T00:55:55.912332",
     "exception": false,
     "start_time": "2023-08-27T00:55:55.885040",
     "status": "completed"
    },
    "tags": []
   },
   "source": [
    "With this code, I was able to achieve a private score of 0.86849 without performing feature engineering. My focus was primarily on refining the modeling process itself. The key approach here was customizing each model individually and then combining them using a soft VotingClassifier.\n",
    "\n",
    "One significant factor that greatly aided my efforts was manually calculating the accuracy of the ensemble's voting. I haven't yet discovered a method to obtain the individual scores of each model after fitting the VotingClassifier. Consequently, when I wanted to experiment with different weights and other models, I had to retrain the ensemble (which can take approximately 1 hour). To address this issue, I manually computed the accuracy, saving a substantial amount of time and computational resources in the process.\n",
    "\n",
    "\n",
    "Feel free to try it on your own and comment your thoughts/point any mistakes i've made. The main goal is to learn"
   ]
  },
  {
   "cell_type": "markdown",
   "id": "157ccb01",
   "metadata": {
    "papermill": {
     "duration": 0.026358,
     "end_time": "2023-08-27T00:55:55.965765",
     "exception": false,
     "start_time": "2023-08-27T00:55:55.939407",
     "status": "completed"
    },
    "tags": []
   },
   "source": [
    "# Importing libraries"
   ]
  },
  {
   "cell_type": "code",
   "execution_count": 1,
   "id": "da979fe6",
   "metadata": {
    "execution": {
     "iopub.execute_input": "2023-08-27T00:55:56.022855Z",
     "iopub.status.busy": "2023-08-27T00:55:56.022068Z",
     "iopub.status.idle": "2023-08-27T00:55:58.848127Z",
     "shell.execute_reply": "2023-08-27T00:55:58.847028Z"
    },
    "papermill": {
     "duration": 2.858725,
     "end_time": "2023-08-27T00:55:58.851008",
     "exception": false,
     "start_time": "2023-08-27T00:55:55.992283",
     "status": "completed"
    },
    "tags": []
   },
   "outputs": [
    {
     "name": "stderr",
     "output_type": "stream",
     "text": [
      "/opt/conda/lib/python3.10/site-packages/scipy/__init__.py:146: UserWarning: A NumPy version >=1.16.5 and <1.23.0 is required for this version of SciPy (detected version 1.23.5\n",
      "  warnings.warn(f\"A NumPy version >={np_minversion} and <{np_maxversion}\"\n"
     ]
    }
   ],
   "source": [
    "import numpy as np\n",
    "import pandas as pd\n",
    "import seaborn as sns\n",
    "import matplotlib.pyplot as plt\n",
    "import missingno as msno\n",
    "import warnings\n",
    "from sklearn.preprocessing import StandardScaler, MinMaxScaler, RobustScaler\n",
    "from sklearn.model_selection import train_test_split, KFold, StratifiedKFold, cross_val_score, GridSearchCV\n",
    "from sklearn.metrics import classification_report, confusion_matrix, accuracy_score\n",
    "from sklearn.pipeline import Pipeline\n",
    "from sklearn.tree import DecisionTreeClassifier\n",
    "from sklearn.discriminant_analysis import LinearDiscriminantAnalysis\n",
    "from sklearn.svm import SVC\n",
    "from sklearn.ensemble import AdaBoostClassifier, GradientBoostingClassifier, RandomForestClassifier, ExtraTreesClassifier, VotingClassifier\n",
    "from sklearn.neighbors import KNeighborsClassifier\n",
    "from sklearn.naive_bayes import GaussianNB\n",
    "from sklearn.linear_model import LogisticRegression\n",
    "from sklearn.experimental import enable_iterative_imputer\n",
    "from sklearn.impute import IterativeImputer, SimpleImputer, KNNImputer\n",
    "from skopt import BayesSearchCV\n",
    "from skopt.space import Real, Categorical\n",
    "from sklearn.metrics import accuracy_score, mean_absolute_error, precision_score, roc_auc_score\n",
    "from sklearn.model_selection import RandomizedSearchCV, cross_val_score, train_test_split\n",
    "from sklearn.svm import SVC\n",
    "from sklearn.ensemble import RandomForestClassifier, GradientBoostingClassifier\n",
    "from xgboost import XGBClassifier\n",
    "from sklearn.exceptions import DataConversionWarning\n",
    "from pandas import set_option\n"
   ]
  },
  {
   "cell_type": "code",
   "execution_count": 2,
   "id": "6f391632",
   "metadata": {
    "execution": {
     "iopub.execute_input": "2023-08-27T00:55:58.907393Z",
     "iopub.status.busy": "2023-08-27T00:55:58.906933Z",
     "iopub.status.idle": "2023-08-27T00:55:58.913061Z",
     "shell.execute_reply": "2023-08-27T00:55:58.911758Z"
    },
    "papermill": {
     "duration": 0.037737,
     "end_time": "2023-08-27T00:55:58.915750",
     "exception": false,
     "start_time": "2023-08-27T00:55:58.878013",
     "status": "completed"
    },
    "tags": []
   },
   "outputs": [],
   "source": [
    "# Suprimir o aviso de DataConversionWarning\n",
    "warnings.filterwarnings(\"ignore\", category=DataConversionWarning)\n",
    "warnings.simplefilter(action='ignore', category=FutureWarning)\n",
    "\n",
    "warnings.resetwarnings()"
   ]
  },
  {
   "cell_type": "code",
   "execution_count": 3,
   "id": "b0d24d45",
   "metadata": {
    "_cell_guid": "b1076dfc-b9ad-4769-8c92-a6c4dae69d19",
    "_uuid": "8f2839f25d086af736a60e9eeb907d3b93b6e0e5",
    "execution": {
     "iopub.execute_input": "2023-08-27T00:55:58.973346Z",
     "iopub.status.busy": "2023-08-27T00:55:58.972889Z",
     "iopub.status.idle": "2023-08-27T00:55:58.990140Z",
     "shell.execute_reply": "2023-08-27T00:55:58.988418Z"
    },
    "papermill": {
     "duration": 0.048534,
     "end_time": "2023-08-27T00:55:58.992844",
     "exception": false,
     "start_time": "2023-08-27T00:55:58.944310",
     "status": "completed"
    },
    "tags": []
   },
   "outputs": [
    {
     "name": "stdout",
     "output_type": "stream",
     "text": [
      "/kaggle/input/submission/submission.csv\n",
      "/kaggle/input/GiveMeSomeCredit/Data Dictionary.xls\n",
      "/kaggle/input/GiveMeSomeCredit/cs-training.csv\n",
      "/kaggle/input/GiveMeSomeCredit/sampleEntry.csv\n",
      "/kaggle/input/GiveMeSomeCredit/cs-test.csv\n"
     ]
    }
   ],
   "source": [
    "# This Python 3 environment comes with many helpful analytics libraries installed\n",
    "# It is defined by the kaggle/python Docker image: https://github.com/kaggle/docker-python\n",
    "# For example, here's several helpful packages to load\n",
    "\n",
    "import numpy as np # linear algebra\n",
    "import pandas as pd # data processing, CSV file I/O (e.g. pd.read_csv)\n",
    "\n",
    "# Input data files are available in the read-only \"../input/\" directory\n",
    "# For example, running this (by clicking run or pressing Shift+Enter) will list all files under the input directory\n",
    "\n",
    "import os\n",
    "for dirname, _, filenames in os.walk('/kaggle/input'):\n",
    "    for filename in filenames:\n",
    "        print(os.path.join(dirname, filename))\n",
    "\n",
    "# You can write up to 20GB to the current directory (/kaggle/working/) that gets preserved as output when you create a version using \"Save & Run All\" \n",
    "# You can also write temporary files to /kaggle/temp/, but they won't be saved outside of the current session"
   ]
  },
  {
   "cell_type": "code",
   "execution_count": 4,
   "id": "37afbc82",
   "metadata": {
    "execution": {
     "iopub.execute_input": "2023-08-27T00:55:59.049087Z",
     "iopub.status.busy": "2023-08-27T00:55:59.048345Z",
     "iopub.status.idle": "2023-08-27T00:56:15.466300Z",
     "shell.execute_reply": "2023-08-27T00:56:15.464782Z"
    },
    "papermill": {
     "duration": 16.449517,
     "end_time": "2023-08-27T00:56:15.469278",
     "exception": false,
     "start_time": "2023-08-27T00:55:59.019761",
     "status": "completed"
    },
    "tags": []
   },
   "outputs": [
    {
     "name": "stdout",
     "output_type": "stream",
     "text": [
      "Collecting xlrd\r\n",
      "  Downloading xlrd-2.0.1-py2.py3-none-any.whl (96 kB)\r\n",
      "\u001b[2K     \u001b[90m━━━━━━━━━━━━━━━━━━━━━━━━━━━━━━━━━━━━━━━━\u001b[0m \u001b[32m96.5/96.5 kB\u001b[0m \u001b[31m3.4 MB/s\u001b[0m eta \u001b[36m0:00:00\u001b[0m\r\n",
      "\u001b[?25hInstalling collected packages: xlrd\r\n",
      "Successfully installed xlrd-2.0.1\r\n"
     ]
    },
    {
     "data": {
      "text/html": [
       "<div>\n",
       "<style scoped>\n",
       "    .dataframe tbody tr th:only-of-type {\n",
       "        vertical-align: middle;\n",
       "    }\n",
       "\n",
       "    .dataframe tbody tr th {\n",
       "        vertical-align: top;\n",
       "    }\n",
       "\n",
       "    .dataframe thead th {\n",
       "        text-align: right;\n",
       "    }\n",
       "</style>\n",
       "<table border=\"1\" class=\"dataframe\">\n",
       "  <thead>\n",
       "    <tr style=\"text-align: right;\">\n",
       "      <th></th>\n",
       "      <th>Unnamed: 0</th>\n",
       "      <th>Unnamed: 1</th>\n",
       "      <th>Unnamed: 2</th>\n",
       "    </tr>\n",
       "  </thead>\n",
       "  <tbody>\n",
       "    <tr>\n",
       "      <th>0</th>\n",
       "      <td>Variable Name</td>\n",
       "      <td>Description</td>\n",
       "      <td>Type</td>\n",
       "    </tr>\n",
       "    <tr>\n",
       "      <th>1</th>\n",
       "      <td>SeriousDlqin2yrs</td>\n",
       "      <td>Person experienced 90 days past due delinquency or worse</td>\n",
       "      <td>Y/N</td>\n",
       "    </tr>\n",
       "    <tr>\n",
       "      <th>2</th>\n",
       "      <td>RevolvingUtilizationOfUnsecuredLines</td>\n",
       "      <td>Total balance on credit cards and personal lines of credit except real estate and no installment debt like car loans divided by the sum of credit limits</td>\n",
       "      <td>percentage</td>\n",
       "    </tr>\n",
       "    <tr>\n",
       "      <th>3</th>\n",
       "      <td>age</td>\n",
       "      <td>Age of borrower in years</td>\n",
       "      <td>integer</td>\n",
       "    </tr>\n",
       "    <tr>\n",
       "      <th>4</th>\n",
       "      <td>NumberOfTime30-59DaysPastDueNotWorse</td>\n",
       "      <td>Number of times borrower has been 30-59 days past due but no worse in the last 2 years.</td>\n",
       "      <td>integer</td>\n",
       "    </tr>\n",
       "    <tr>\n",
       "      <th>5</th>\n",
       "      <td>DebtRatio</td>\n",
       "      <td>Monthly debt payments, alimony,living costs divided by monthy gross income</td>\n",
       "      <td>percentage</td>\n",
       "    </tr>\n",
       "    <tr>\n",
       "      <th>6</th>\n",
       "      <td>MonthlyIncome</td>\n",
       "      <td>Monthly income</td>\n",
       "      <td>real</td>\n",
       "    </tr>\n",
       "    <tr>\n",
       "      <th>7</th>\n",
       "      <td>NumberOfOpenCreditLinesAndLoans</td>\n",
       "      <td>Number of Open loans (installment like car loan or mortgage) and Lines of credit (e.g. credit cards)</td>\n",
       "      <td>integer</td>\n",
       "    </tr>\n",
       "    <tr>\n",
       "      <th>8</th>\n",
       "      <td>NumberOfTimes90DaysLate</td>\n",
       "      <td>Number of times borrower has been 90 days or more past due.</td>\n",
       "      <td>integer</td>\n",
       "    </tr>\n",
       "    <tr>\n",
       "      <th>9</th>\n",
       "      <td>NumberRealEstateLoansOrLines</td>\n",
       "      <td>Number of mortgage and real estate loans including home equity lines of credit</td>\n",
       "      <td>integer</td>\n",
       "    </tr>\n",
       "    <tr>\n",
       "      <th>10</th>\n",
       "      <td>NumberOfTime60-89DaysPastDueNotWorse</td>\n",
       "      <td>Number of times borrower has been 60-89 days past due but no worse in the last 2 years.</td>\n",
       "      <td>integer</td>\n",
       "    </tr>\n",
       "    <tr>\n",
       "      <th>11</th>\n",
       "      <td>NumberOfDependents</td>\n",
       "      <td>Number of dependents in family excluding themselves (spouse, children etc.)</td>\n",
       "      <td>integer</td>\n",
       "    </tr>\n",
       "  </tbody>\n",
       "</table>\n",
       "</div>"
      ],
      "text/plain": [
       "                              Unnamed: 0  \\\n",
       "0                          Variable Name   \n",
       "1                       SeriousDlqin2yrs   \n",
       "2   RevolvingUtilizationOfUnsecuredLines   \n",
       "3                                    age   \n",
       "4   NumberOfTime30-59DaysPastDueNotWorse   \n",
       "5                              DebtRatio   \n",
       "6                          MonthlyIncome   \n",
       "7        NumberOfOpenCreditLinesAndLoans   \n",
       "8                NumberOfTimes90DaysLate   \n",
       "9           NumberRealEstateLoansOrLines   \n",
       "10  NumberOfTime60-89DaysPastDueNotWorse   \n",
       "11                    NumberOfDependents   \n",
       "\n",
       "                                                                                                                                                  Unnamed: 1  \\\n",
       "0                                                                                                                                                Description   \n",
       "1                                                                                                  Person experienced 90 days past due delinquency or worse    \n",
       "2   Total balance on credit cards and personal lines of credit except real estate and no installment debt like car loans divided by the sum of credit limits   \n",
       "3                                                                                                                                   Age of borrower in years   \n",
       "4                                                                    Number of times borrower has been 30-59 days past due but no worse in the last 2 years.   \n",
       "5                                                                                 Monthly debt payments, alimony,living costs divided by monthy gross income   \n",
       "6                                                                                                                                             Monthly income   \n",
       "7                                                       Number of Open loans (installment like car loan or mortgage) and Lines of credit (e.g. credit cards)   \n",
       "8                                                                                                Number of times borrower has been 90 days or more past due.   \n",
       "9                                                                             Number of mortgage and real estate loans including home equity lines of credit   \n",
       "10                                                                   Number of times borrower has been 60-89 days past due but no worse in the last 2 years.   \n",
       "11                                                                               Number of dependents in family excluding themselves (spouse, children etc.)   \n",
       "\n",
       "    Unnamed: 2  \n",
       "0         Type  \n",
       "1          Y/N  \n",
       "2   percentage  \n",
       "3      integer  \n",
       "4      integer  \n",
       "5   percentage  \n",
       "6         real  \n",
       "7      integer  \n",
       "8      integer  \n",
       "9      integer  \n",
       "10     integer  \n",
       "11     integer  "
      ]
     },
     "execution_count": 4,
     "metadata": {},
     "output_type": "execute_result"
    }
   ],
   "source": [
    "!pip install xlrd\n",
    "pd.set_option('display.max_colwidth', None)\n",
    "data_dict = pd.read_excel('/kaggle/input/GiveMeSomeCredit/Data Dictionary.xls')\n",
    "data_dict"
   ]
  },
  {
   "cell_type": "code",
   "execution_count": 5,
   "id": "9bf87f38",
   "metadata": {
    "execution": {
     "iopub.execute_input": "2023-08-27T00:56:15.528919Z",
     "iopub.status.busy": "2023-08-27T00:56:15.528441Z",
     "iopub.status.idle": "2023-08-27T00:56:16.103683Z",
     "shell.execute_reply": "2023-08-27T00:56:16.102314Z"
    },
    "papermill": {
     "duration": 0.609467,
     "end_time": "2023-08-27T00:56:16.106699",
     "exception": false,
     "start_time": "2023-08-27T00:56:15.497232",
     "status": "completed"
    },
    "tags": []
   },
   "outputs": [
    {
     "data": {
      "text/html": [
       "<div>\n",
       "<style scoped>\n",
       "    .dataframe tbody tr th:only-of-type {\n",
       "        vertical-align: middle;\n",
       "    }\n",
       "\n",
       "    .dataframe tbody tr th {\n",
       "        vertical-align: top;\n",
       "    }\n",
       "\n",
       "    .dataframe thead th {\n",
       "        text-align: right;\n",
       "    }\n",
       "</style>\n",
       "<table border=\"1\" class=\"dataframe\">\n",
       "  <thead>\n",
       "    <tr style=\"text-align: right;\">\n",
       "      <th></th>\n",
       "      <th>Unnamed: 0</th>\n",
       "      <th>SeriousDlqin2yrs</th>\n",
       "      <th>RevolvingUtilizationOfUnsecuredLines</th>\n",
       "      <th>age</th>\n",
       "      <th>NumberOfTime30-59DaysPastDueNotWorse</th>\n",
       "      <th>DebtRatio</th>\n",
       "      <th>MonthlyIncome</th>\n",
       "      <th>NumberOfOpenCreditLinesAndLoans</th>\n",
       "      <th>NumberOfTimes90DaysLate</th>\n",
       "      <th>NumberRealEstateLoansOrLines</th>\n",
       "      <th>NumberOfTime60-89DaysPastDueNotWorse</th>\n",
       "      <th>NumberOfDependents</th>\n",
       "    </tr>\n",
       "  </thead>\n",
       "  <tbody>\n",
       "    <tr>\n",
       "      <th>0</th>\n",
       "      <td>1</td>\n",
       "      <td>1</td>\n",
       "      <td>0.766127</td>\n",
       "      <td>45</td>\n",
       "      <td>2</td>\n",
       "      <td>0.802982</td>\n",
       "      <td>9120.0</td>\n",
       "      <td>13</td>\n",
       "      <td>0</td>\n",
       "      <td>6</td>\n",
       "      <td>0</td>\n",
       "      <td>2.0</td>\n",
       "    </tr>\n",
       "    <tr>\n",
       "      <th>1</th>\n",
       "      <td>2</td>\n",
       "      <td>0</td>\n",
       "      <td>0.957151</td>\n",
       "      <td>40</td>\n",
       "      <td>0</td>\n",
       "      <td>0.121876</td>\n",
       "      <td>2600.0</td>\n",
       "      <td>4</td>\n",
       "      <td>0</td>\n",
       "      <td>0</td>\n",
       "      <td>0</td>\n",
       "      <td>1.0</td>\n",
       "    </tr>\n",
       "    <tr>\n",
       "      <th>2</th>\n",
       "      <td>3</td>\n",
       "      <td>0</td>\n",
       "      <td>0.658180</td>\n",
       "      <td>38</td>\n",
       "      <td>1</td>\n",
       "      <td>0.085113</td>\n",
       "      <td>3042.0</td>\n",
       "      <td>2</td>\n",
       "      <td>1</td>\n",
       "      <td>0</td>\n",
       "      <td>0</td>\n",
       "      <td>0.0</td>\n",
       "    </tr>\n",
       "    <tr>\n",
       "      <th>3</th>\n",
       "      <td>4</td>\n",
       "      <td>0</td>\n",
       "      <td>0.233810</td>\n",
       "      <td>30</td>\n",
       "      <td>0</td>\n",
       "      <td>0.036050</td>\n",
       "      <td>3300.0</td>\n",
       "      <td>5</td>\n",
       "      <td>0</td>\n",
       "      <td>0</td>\n",
       "      <td>0</td>\n",
       "      <td>0.0</td>\n",
       "    </tr>\n",
       "    <tr>\n",
       "      <th>4</th>\n",
       "      <td>5</td>\n",
       "      <td>0</td>\n",
       "      <td>0.907239</td>\n",
       "      <td>49</td>\n",
       "      <td>1</td>\n",
       "      <td>0.024926</td>\n",
       "      <td>63588.0</td>\n",
       "      <td>7</td>\n",
       "      <td>0</td>\n",
       "      <td>1</td>\n",
       "      <td>0</td>\n",
       "      <td>0.0</td>\n",
       "    </tr>\n",
       "    <tr>\n",
       "      <th>5</th>\n",
       "      <td>6</td>\n",
       "      <td>0</td>\n",
       "      <td>0.213179</td>\n",
       "      <td>74</td>\n",
       "      <td>0</td>\n",
       "      <td>0.375607</td>\n",
       "      <td>3500.0</td>\n",
       "      <td>3</td>\n",
       "      <td>0</td>\n",
       "      <td>1</td>\n",
       "      <td>0</td>\n",
       "      <td>1.0</td>\n",
       "    </tr>\n",
       "    <tr>\n",
       "      <th>6</th>\n",
       "      <td>7</td>\n",
       "      <td>0</td>\n",
       "      <td>0.305682</td>\n",
       "      <td>57</td>\n",
       "      <td>0</td>\n",
       "      <td>5710.000000</td>\n",
       "      <td>NaN</td>\n",
       "      <td>8</td>\n",
       "      <td>0</td>\n",
       "      <td>3</td>\n",
       "      <td>0</td>\n",
       "      <td>0.0</td>\n",
       "    </tr>\n",
       "    <tr>\n",
       "      <th>7</th>\n",
       "      <td>8</td>\n",
       "      <td>0</td>\n",
       "      <td>0.754464</td>\n",
       "      <td>39</td>\n",
       "      <td>0</td>\n",
       "      <td>0.209940</td>\n",
       "      <td>3500.0</td>\n",
       "      <td>8</td>\n",
       "      <td>0</td>\n",
       "      <td>0</td>\n",
       "      <td>0</td>\n",
       "      <td>0.0</td>\n",
       "    </tr>\n",
       "    <tr>\n",
       "      <th>8</th>\n",
       "      <td>9</td>\n",
       "      <td>0</td>\n",
       "      <td>0.116951</td>\n",
       "      <td>27</td>\n",
       "      <td>0</td>\n",
       "      <td>46.000000</td>\n",
       "      <td>NaN</td>\n",
       "      <td>2</td>\n",
       "      <td>0</td>\n",
       "      <td>0</td>\n",
       "      <td>0</td>\n",
       "      <td>NaN</td>\n",
       "    </tr>\n",
       "    <tr>\n",
       "      <th>9</th>\n",
       "      <td>10</td>\n",
       "      <td>0</td>\n",
       "      <td>0.189169</td>\n",
       "      <td>57</td>\n",
       "      <td>0</td>\n",
       "      <td>0.606291</td>\n",
       "      <td>23684.0</td>\n",
       "      <td>9</td>\n",
       "      <td>0</td>\n",
       "      <td>4</td>\n",
       "      <td>0</td>\n",
       "      <td>2.0</td>\n",
       "    </tr>\n",
       "  </tbody>\n",
       "</table>\n",
       "</div>"
      ],
      "text/plain": [
       "   Unnamed: 0  SeriousDlqin2yrs  RevolvingUtilizationOfUnsecuredLines  age  \\\n",
       "0           1                 1                              0.766127   45   \n",
       "1           2                 0                              0.957151   40   \n",
       "2           3                 0                              0.658180   38   \n",
       "3           4                 0                              0.233810   30   \n",
       "4           5                 0                              0.907239   49   \n",
       "5           6                 0                              0.213179   74   \n",
       "6           7                 0                              0.305682   57   \n",
       "7           8                 0                              0.754464   39   \n",
       "8           9                 0                              0.116951   27   \n",
       "9          10                 0                              0.189169   57   \n",
       "\n",
       "   NumberOfTime30-59DaysPastDueNotWorse    DebtRatio  MonthlyIncome  \\\n",
       "0                                     2     0.802982         9120.0   \n",
       "1                                     0     0.121876         2600.0   \n",
       "2                                     1     0.085113         3042.0   \n",
       "3                                     0     0.036050         3300.0   \n",
       "4                                     1     0.024926        63588.0   \n",
       "5                                     0     0.375607         3500.0   \n",
       "6                                     0  5710.000000            NaN   \n",
       "7                                     0     0.209940         3500.0   \n",
       "8                                     0    46.000000            NaN   \n",
       "9                                     0     0.606291        23684.0   \n",
       "\n",
       "   NumberOfOpenCreditLinesAndLoans  NumberOfTimes90DaysLate  \\\n",
       "0                               13                        0   \n",
       "1                                4                        0   \n",
       "2                                2                        1   \n",
       "3                                5                        0   \n",
       "4                                7                        0   \n",
       "5                                3                        0   \n",
       "6                                8                        0   \n",
       "7                                8                        0   \n",
       "8                                2                        0   \n",
       "9                                9                        0   \n",
       "\n",
       "   NumberRealEstateLoansOrLines  NumberOfTime60-89DaysPastDueNotWorse  \\\n",
       "0                             6                                     0   \n",
       "1                             0                                     0   \n",
       "2                             0                                     0   \n",
       "3                             0                                     0   \n",
       "4                             1                                     0   \n",
       "5                             1                                     0   \n",
       "6                             3                                     0   \n",
       "7                             0                                     0   \n",
       "8                             0                                     0   \n",
       "9                             4                                     0   \n",
       "\n",
       "   NumberOfDependents  \n",
       "0                 2.0  \n",
       "1                 1.0  \n",
       "2                 0.0  \n",
       "3                 0.0  \n",
       "4                 0.0  \n",
       "5                 1.0  \n",
       "6                 0.0  \n",
       "7                 0.0  \n",
       "8                 NaN  \n",
       "9                 2.0  "
      ]
     },
     "execution_count": 5,
     "metadata": {},
     "output_type": "execute_result"
    }
   ],
   "source": [
    "train = pd.read_csv('/kaggle/input/GiveMeSomeCredit/cs-training.csv')\n",
    "test = pd.read_csv('/kaggle/input/GiveMeSomeCredit/cs-test.csv')\n",
    "train.head(10)"
   ]
  },
  {
   "cell_type": "markdown",
   "id": "381f34ad",
   "metadata": {
    "papermill": {
     "duration": 0.028624,
     "end_time": "2023-08-27T00:56:16.163912",
     "exception": false,
     "start_time": "2023-08-27T00:56:16.135288",
     "status": "completed"
    },
    "tags": []
   },
   "source": [
    "# Memory reduction"
   ]
  },
  {
   "cell_type": "code",
   "execution_count": 6,
   "id": "9c180923",
   "metadata": {
    "execution": {
     "iopub.execute_input": "2023-08-27T00:56:16.224476Z",
     "iopub.status.busy": "2023-08-27T00:56:16.224019Z",
     "iopub.status.idle": "2023-08-27T00:56:16.285909Z",
     "shell.execute_reply": "2023-08-27T00:56:16.284127Z"
    },
    "papermill": {
     "duration": 0.095045,
     "end_time": "2023-08-27T00:56:16.288777",
     "exception": false,
     "start_time": "2023-08-27T00:56:16.193732",
     "status": "completed"
    },
    "tags": []
   },
   "outputs": [
    {
     "name": "stdout",
     "output_type": "stream",
     "text": [
      "Memory usage of dataframe is 13.73 MB\n",
      "Memory usage after optimization is: 3.29 MB\n",
      "Decreased by 76.0%\n"
     ]
    }
   ],
   "source": [
    "###############################################################################\n",
    "#                         Reduce Memory                                       #\n",
    "###############################################################################\n",
    "\n",
    "# Author : https://www.kaggle.com/gemartin/load-data-reduce-memory-usage\n",
    "def reduce_mem_usage(df):\n",
    "    \"\"\" iterate through all the columns of a dataframe and modify the data type\n",
    "        to reduce memory usage.        \n",
    "    \"\"\"\n",
    "    start_mem = df.memory_usage().sum() / 1024**2\n",
    "    print('Memory usage of dataframe is {:.2f} MB'.format(start_mem))\n",
    "    \n",
    "    for col in df.columns:\n",
    "        col_type = df[col].dtype\n",
    "        name =df[col].dtype.name \n",
    "        \n",
    "        if col_type != object and col_type.name != 'category':\n",
    "        #if name != \"category\":    \n",
    "            c_min = df[col].min()\n",
    "            c_max = df[col].max()\n",
    "            if str(col_type)[:3] == 'int':\n",
    "                if c_min > np.iinfo(np.int8).min and c_max < np.iinfo(np.int8).max:\n",
    "                    df[col] = df[col].astype(np.int8)\n",
    "                elif c_min > np.iinfo(np.int16).min and c_max < np.iinfo(np.int16).max:\n",
    "                    df[col] = df[col].astype(np.int16)\n",
    "                elif c_min > np.iinfo(np.int32).min and c_max < np.iinfo(np.int32).max:\n",
    "                    df[col] = df[col].astype(np.int32)\n",
    "                elif c_min > np.iinfo(np.int64).min and c_max < np.iinfo(np.int64).max:\n",
    "                    df[col] = df[col].astype(np.int64)  \n",
    "            else:\n",
    "                if c_min > np.finfo(np.float16).min and c_max < np.finfo(np.float16).max:\n",
    "                    df[col] = df[col].astype(np.float16)\n",
    "                elif c_min > np.finfo(np.float32).min and c_max < np.finfo(np.float32).max:\n",
    "                    df[col] = df[col].astype(np.float32)\n",
    "                else:\n",
    "                    df[col] = df[col].astype(np.float64)\n",
    "        else:\n",
    "            df[col] = df[col].astype('category')\n",
    "\n",
    "    end_mem = df.memory_usage().sum() / 1024**2\n",
    "    print('Memory usage after optimization is: {:.2f} MB'.format(end_mem))\n",
    "    print('Decreased by {:.1f}%'.format(100 * (start_mem - end_mem) / start_mem))\n",
    "    \n",
    "    return df\n",
    "\n",
    "\n",
    "train = reduce_mem_usage(train)"
   ]
  },
  {
   "cell_type": "code",
   "execution_count": 7,
   "id": "ef8026aa",
   "metadata": {
    "execution": {
     "iopub.execute_input": "2023-08-27T00:56:16.349001Z",
     "iopub.status.busy": "2023-08-27T00:56:16.348564Z",
     "iopub.status.idle": "2023-08-27T00:56:19.093150Z",
     "shell.execute_reply": "2023-08-27T00:56:19.091825Z"
    },
    "papermill": {
     "duration": 2.778568,
     "end_time": "2023-08-27T00:56:19.096683",
     "exception": false,
     "start_time": "2023-08-27T00:56:16.318115",
     "status": "completed"
    },
    "tags": []
   },
   "outputs": [
    {
     "data": {
      "image/png": "[encoded data removed]",
      "text/plain": [
       "<Figure size 2500x1000 with 2 Axes>"
      ]
     },
     "metadata": {},
     "output_type": "display_data"
    },
    {
     "data": {
      "image/png": "[encoded data removed]",
      "text/plain": [
       "<Figure size 2500x1000 with 2 Axes>"
      ]
     },
     "metadata": {},
     "output_type": "display_data"
    }
   ],
   "source": [
    "msno.matrix(train)\n",
    "title_font = {'size': 20}  # Adjust the font size as needed\n",
    "plt.title(\"Missingness Matrix for Train Data\", fontdict=title_font)\n",
    "plt.show()\n",
    "\n",
    "msno.matrix(test)\n",
    "title_font = {'size': 20}  # Adjust the font size as needed\n",
    "plt.title(\"Missingness Matrix for Test Data\", fontdict=title_font)\n",
    "plt.show()"
   ]
  },
  {
   "cell_type": "markdown",
   "id": "f20248a2",
   "metadata": {
    "papermill": {
     "duration": 0.03411,
     "end_time": "2023-08-27T00:56:19.166658",
     "exception": false,
     "start_time": "2023-08-27T00:56:19.132548",
     "status": "completed"
    },
    "tags": []
   },
   "source": [
    "Looks like MonthlyIncome has a lot of NaN and i'm not sure why. I will try different methods of imputation later on the Modeling phase"
   ]
  },
  {
   "cell_type": "code",
   "execution_count": 8,
   "id": "cc3be86c",
   "metadata": {
    "execution": {
     "iopub.execute_input": "2023-08-27T00:56:19.237052Z",
     "iopub.status.busy": "2023-08-27T00:56:19.236602Z",
     "iopub.status.idle": "2023-08-27T00:56:19.256926Z",
     "shell.execute_reply": "2023-08-27T00:56:19.255028Z"
    },
    "papermill": {
     "duration": 0.059191,
     "end_time": "2023-08-27T00:56:19.260181",
     "exception": false,
     "start_time": "2023-08-27T00:56:19.200990",
     "status": "completed"
    },
    "tags": []
   },
   "outputs": [
    {
     "name": "stdout",
     "output_type": "stream",
     "text": [
      "Percentage of NaN - Monthly Income: 0.19820666666666667\n",
      "Percentage of NaN - Number of dependents: 0.02616\n"
     ]
    }
   ],
   "source": [
    "print(f\"Percentage of NaN - Monthly Income: {train.loc[train['MonthlyIncome'].isnull()].shape[0]/train.shape[0]}\")\n",
    "\n",
    "print(f\"Percentage of NaN - Number of dependents: {train.loc[train['NumberOfDependents'].isnull()].shape[0]/train.shape[0]}\")"
   ]
  },
  {
   "cell_type": "markdown",
   "id": "7267f0ef",
   "metadata": {
    "papermill": {
     "duration": 0.034592,
     "end_time": "2023-08-27T00:56:19.329923",
     "exception": false,
     "start_time": "2023-08-27T00:56:19.295331",
     "status": "completed"
    },
    "tags": []
   },
   "source": [
    "# Data Cleaning"
   ]
  },
  {
   "cell_type": "code",
   "execution_count": 9,
   "id": "8d1e1980",
   "metadata": {
    "execution": {
     "iopub.execute_input": "2023-08-27T00:56:19.400845Z",
     "iopub.status.busy": "2023-08-27T00:56:19.400057Z",
     "iopub.status.idle": "2023-08-27T00:56:19.547092Z",
     "shell.execute_reply": "2023-08-27T00:56:19.545448Z"
    },
    "papermill": {
     "duration": 0.186024,
     "end_time": "2023-08-27T00:56:19.550164",
     "exception": false,
     "start_time": "2023-08-27T00:56:19.364140",
     "status": "completed"
    },
    "tags": []
   },
   "outputs": [
    {
     "data": {
      "text/html": [
       "<div>\n",
       "<style scoped>\n",
       "    .dataframe tbody tr th:only-of-type {\n",
       "        vertical-align: middle;\n",
       "    }\n",
       "\n",
       "    .dataframe tbody tr th {\n",
       "        vertical-align: top;\n",
       "    }\n",
       "\n",
       "    .dataframe thead th {\n",
       "        text-align: right;\n",
       "    }\n",
       "</style>\n",
       "<table border=\"1\" class=\"dataframe\">\n",
       "  <thead>\n",
       "    <tr style=\"text-align: right;\">\n",
       "      <th></th>\n",
       "      <th>Unnamed: 0</th>\n",
       "      <th>SeriousDlqin2yrs</th>\n",
       "      <th>RevolvingUtilizationOfUnsecuredLines</th>\n",
       "      <th>age</th>\n",
       "      <th>NumberOfTime30-59DaysPastDueNotWorse</th>\n",
       "      <th>DebtRatio</th>\n",
       "      <th>MonthlyIncome</th>\n",
       "      <th>NumberOfOpenCreditLinesAndLoans</th>\n",
       "      <th>NumberOfTimes90DaysLate</th>\n",
       "      <th>NumberRealEstateLoansOrLines</th>\n",
       "      <th>NumberOfTime60-89DaysPastDueNotWorse</th>\n",
       "      <th>NumberOfDependents</th>\n",
       "    </tr>\n",
       "  </thead>\n",
       "  <tbody>\n",
       "    <tr>\n",
       "      <th>count</th>\n",
       "      <td>150000.000000</td>\n",
       "      <td>150000.000000</td>\n",
       "      <td>150000.000000</td>\n",
       "      <td>150000.000000</td>\n",
       "      <td>150000.000000</td>\n",
       "      <td>150000.000000</td>\n",
       "      <td>1.202690e+05</td>\n",
       "      <td>150000.000000</td>\n",
       "      <td>150000.000000</td>\n",
       "      <td>150000.000000</td>\n",
       "      <td>150000.000000</td>\n",
       "      <td>146076.0</td>\n",
       "    </tr>\n",
       "    <tr>\n",
       "      <th>mean</th>\n",
       "      <td>75000.500000</td>\n",
       "      <td>0.066840</td>\n",
       "      <td>NaN</td>\n",
       "      <td>52.295207</td>\n",
       "      <td>0.421033</td>\n",
       "      <td>353.005096</td>\n",
       "      <td>6.670222e+03</td>\n",
       "      <td>8.452760</td>\n",
       "      <td>0.265973</td>\n",
       "      <td>1.018240</td>\n",
       "      <td>0.240387</td>\n",
       "      <td>NaN</td>\n",
       "    </tr>\n",
       "    <tr>\n",
       "      <th>std</th>\n",
       "      <td>43301.414527</td>\n",
       "      <td>0.249746</td>\n",
       "      <td>NaN</td>\n",
       "      <td>14.771866</td>\n",
       "      <td>4.192781</td>\n",
       "      <td>2037.818604</td>\n",
       "      <td>1.438467e+04</td>\n",
       "      <td>5.145951</td>\n",
       "      <td>4.169304</td>\n",
       "      <td>1.129771</td>\n",
       "      <td>4.155179</td>\n",
       "      <td>0.0</td>\n",
       "    </tr>\n",
       "    <tr>\n",
       "      <th>min</th>\n",
       "      <td>1.000000</td>\n",
       "      <td>0.000000</td>\n",
       "      <td>0.000000</td>\n",
       "      <td>0.000000</td>\n",
       "      <td>0.000000</td>\n",
       "      <td>0.000000</td>\n",
       "      <td>0.000000e+00</td>\n",
       "      <td>0.000000</td>\n",
       "      <td>0.000000</td>\n",
       "      <td>0.000000</td>\n",
       "      <td>0.000000</td>\n",
       "      <td>0.0</td>\n",
       "    </tr>\n",
       "    <tr>\n",
       "      <th>25%</th>\n",
       "      <td>37500.750000</td>\n",
       "      <td>0.000000</td>\n",
       "      <td>0.029861</td>\n",
       "      <td>41.000000</td>\n",
       "      <td>0.000000</td>\n",
       "      <td>0.175074</td>\n",
       "      <td>3.400000e+03</td>\n",
       "      <td>5.000000</td>\n",
       "      <td>0.000000</td>\n",
       "      <td>0.000000</td>\n",
       "      <td>0.000000</td>\n",
       "      <td>0.0</td>\n",
       "    </tr>\n",
       "    <tr>\n",
       "      <th>50%</th>\n",
       "      <td>75000.500000</td>\n",
       "      <td>0.000000</td>\n",
       "      <td>0.154175</td>\n",
       "      <td>52.000000</td>\n",
       "      <td>0.000000</td>\n",
       "      <td>0.366508</td>\n",
       "      <td>5.400000e+03</td>\n",
       "      <td>8.000000</td>\n",
       "      <td>0.000000</td>\n",
       "      <td>1.000000</td>\n",
       "      <td>0.000000</td>\n",
       "      <td>0.0</td>\n",
       "    </tr>\n",
       "    <tr>\n",
       "      <th>75%</th>\n",
       "      <td>112500.250000</td>\n",
       "      <td>0.000000</td>\n",
       "      <td>0.559082</td>\n",
       "      <td>63.000000</td>\n",
       "      <td>0.000000</td>\n",
       "      <td>0.868254</td>\n",
       "      <td>8.249000e+03</td>\n",
       "      <td>11.000000</td>\n",
       "      <td>0.000000</td>\n",
       "      <td>2.000000</td>\n",
       "      <td>0.000000</td>\n",
       "      <td>1.0</td>\n",
       "    </tr>\n",
       "    <tr>\n",
       "      <th>max</th>\n",
       "      <td>150000.000000</td>\n",
       "      <td>1.000000</td>\n",
       "      <td>50720.000000</td>\n",
       "      <td>109.000000</td>\n",
       "      <td>98.000000</td>\n",
       "      <td>329664.000000</td>\n",
       "      <td>3.008750e+06</td>\n",
       "      <td>58.000000</td>\n",
       "      <td>98.000000</td>\n",
       "      <td>54.000000</td>\n",
       "      <td>98.000000</td>\n",
       "      <td>20.0</td>\n",
       "    </tr>\n",
       "  </tbody>\n",
       "</table>\n",
       "</div>"
      ],
      "text/plain": [
       "          Unnamed: 0  SeriousDlqin2yrs  RevolvingUtilizationOfUnsecuredLines  \\\n",
       "count  150000.000000     150000.000000                         150000.000000   \n",
       "mean    75000.500000          0.066840                                   NaN   \n",
       "std     43301.414527          0.249746                                   NaN   \n",
       "min         1.000000          0.000000                              0.000000   \n",
       "25%     37500.750000          0.000000                              0.029861   \n",
       "50%     75000.500000          0.000000                              0.154175   \n",
       "75%    112500.250000          0.000000                              0.559082   \n",
       "max    150000.000000          1.000000                          50720.000000   \n",
       "\n",
       "                 age  NumberOfTime30-59DaysPastDueNotWorse      DebtRatio  \\\n",
       "count  150000.000000                         150000.000000  150000.000000   \n",
       "mean       52.295207                              0.421033     353.005096   \n",
       "std        14.771866                              4.192781    2037.818604   \n",
       "min         0.000000                              0.000000       0.000000   \n",
       "25%        41.000000                              0.000000       0.175074   \n",
       "50%        52.000000                              0.000000       0.366508   \n",
       "75%        63.000000                              0.000000       0.868254   \n",
       "max       109.000000                             98.000000  329664.000000   \n",
       "\n",
       "       MonthlyIncome  NumberOfOpenCreditLinesAndLoans  \\\n",
       "count   1.202690e+05                    150000.000000   \n",
       "mean    6.670222e+03                         8.452760   \n",
       "std     1.438467e+04                         5.145951   \n",
       "min     0.000000e+00                         0.000000   \n",
       "25%     3.400000e+03                         5.000000   \n",
       "50%     5.400000e+03                         8.000000   \n",
       "75%     8.249000e+03                        11.000000   \n",
       "max     3.008750e+06                        58.000000   \n",
       "\n",
       "       NumberOfTimes90DaysLate  NumberRealEstateLoansOrLines  \\\n",
       "count            150000.000000                 150000.000000   \n",
       "mean                  0.265973                      1.018240   \n",
       "std                   4.169304                      1.129771   \n",
       "min                   0.000000                      0.000000   \n",
       "25%                   0.000000                      0.000000   \n",
       "50%                   0.000000                      1.000000   \n",
       "75%                   0.000000                      2.000000   \n",
       "max                  98.000000                     54.000000   \n",
       "\n",
       "       NumberOfTime60-89DaysPastDueNotWorse  NumberOfDependents  \n",
       "count                         150000.000000            146076.0  \n",
       "mean                               0.240387                 NaN  \n",
       "std                                4.155179                 0.0  \n",
       "min                                0.000000                 0.0  \n",
       "25%                                0.000000                 0.0  \n",
       "50%                                0.000000                 0.0  \n",
       "75%                                0.000000                 1.0  \n",
       "max                               98.000000                20.0  "
      ]
     },
     "execution_count": 9,
     "metadata": {},
     "output_type": "execute_result"
    }
   ],
   "source": [
    "train.describe()"
   ]
  },
  {
   "cell_type": "markdown",
   "id": "7e244cb2",
   "metadata": {
    "papermill": {
     "duration": 0.033847,
     "end_time": "2023-08-27T00:56:19.618050",
     "exception": false,
     "start_time": "2023-08-27T00:56:19.584203",
     "status": "completed"
    },
    "tags": []
   },
   "source": [
    "## Unnamed: 0"
   ]
  },
  {
   "cell_type": "code",
   "execution_count": 10,
   "id": "edc61e01",
   "metadata": {
    "execution": {
     "iopub.execute_input": "2023-08-27T00:56:19.691271Z",
     "iopub.status.busy": "2023-08-27T00:56:19.690491Z",
     "iopub.status.idle": "2023-08-27T00:56:19.700103Z",
     "shell.execute_reply": "2023-08-27T00:56:19.698625Z"
    },
    "papermill": {
     "duration": 0.049875,
     "end_time": "2023-08-27T00:56:19.703578",
     "exception": false,
     "start_time": "2023-08-27T00:56:19.653703",
     "status": "completed"
    },
    "tags": []
   },
   "outputs": [
    {
     "data": {
      "text/plain": [
       "0     1\n",
       "1     2\n",
       "2     3\n",
       "3     4\n",
       "4     5\n",
       "5     6\n",
       "6     7\n",
       "7     8\n",
       "8     9\n",
       "9    10\n",
       "Name: Unnamed: 0, dtype: int32"
      ]
     },
     "execution_count": 10,
     "metadata": {},
     "output_type": "execute_result"
    }
   ],
   "source": [
    "train['Unnamed: 0'].head(10)"
   ]
  },
  {
   "cell_type": "markdown",
   "id": "fa918de7",
   "metadata": {
    "papermill": {
     "duration": 0.034405,
     "end_time": "2023-08-27T00:56:19.773593",
     "exception": false,
     "start_time": "2023-08-27T00:56:19.739188",
     "status": "completed"
    },
    "tags": []
   },
   "source": [
    "It's just an id column, which is useless for us"
   ]
  },
  {
   "cell_type": "markdown",
   "id": "7012ddd3",
   "metadata": {
    "papermill": {
     "duration": 0.034983,
     "end_time": "2023-08-27T00:56:19.844831",
     "exception": false,
     "start_time": "2023-08-27T00:56:19.809848",
     "status": "completed"
    },
    "tags": []
   },
   "source": [
    "## Age"
   ]
  },
  {
   "cell_type": "code",
   "execution_count": 11,
   "id": "5dbb3496",
   "metadata": {
    "execution": {
     "iopub.execute_input": "2023-08-27T00:56:19.928113Z",
     "iopub.status.busy": "2023-08-27T00:56:19.927214Z",
     "iopub.status.idle": "2023-08-27T00:56:20.245640Z",
     "shell.execute_reply": "2023-08-27T00:56:20.244093Z"
    },
    "papermill": {
     "duration": 0.364217,
     "end_time": "2023-08-27T00:56:20.248549",
     "exception": false,
     "start_time": "2023-08-27T00:56:19.884332",
     "status": "completed"
    },
    "tags": []
   },
   "outputs": [
    {
     "data": {
      "image/png": "[encoded data removed]",
      "text/plain": [
       "<Figure size 640x480 with 1 Axes>"
      ]
     },
     "metadata": {},
     "output_type": "display_data"
    }
   ],
   "source": [
    "import numpy as np\n",
    "import seaborn as sns\n",
    "import matplotlib.pyplot as plt\n",
    "\n",
    "ages = train['age']\n",
    "\n",
    "bins = np.linspace(0, 18, 19)\n",
    "\n",
    "plt.hist(ages, bins=bins, edgecolor='black')\n",
    "plt.xlabel('age')\n",
    "plt.ylabel('frequency')\n",
    "plt.xlim(0, 18)\n",
    "plt.show()"
   ]
  },
  {
   "cell_type": "code",
   "execution_count": 12,
   "id": "d42392a9",
   "metadata": {
    "execution": {
     "iopub.execute_input": "2023-08-27T00:56:20.322680Z",
     "iopub.status.busy": "2023-08-27T00:56:20.321821Z",
     "iopub.status.idle": "2023-08-27T00:56:20.348135Z",
     "shell.execute_reply": "2023-08-27T00:56:20.347088Z"
    },
    "papermill": {
     "duration": 0.067252,
     "end_time": "2023-08-27T00:56:20.350703",
     "exception": false,
     "start_time": "2023-08-27T00:56:20.283451",
     "status": "completed"
    },
    "tags": []
   },
   "outputs": [
    {
     "name": "stdout",
     "output_type": "stream",
     "text": [
      "count    101503.000000\n",
      "mean         52.405436\n",
      "std          14.779756\n",
      "min          21.000000\n",
      "25%          41.000000\n",
      "50%          52.000000\n",
      "75%          63.000000\n",
      "max         104.000000\n",
      "Name: age, dtype: float64\n",
      "\n",
      "\n",
      " count    101503.000000\n",
      "mean         52.405436\n",
      "std          14.779756\n",
      "min          21.000000\n",
      "25%          41.000000\n",
      "50%          52.000000\n",
      "75%          63.000000\n",
      "max         104.000000\n",
      "Name: age, dtype: float64\n"
     ]
    }
   ],
   "source": [
    "print(test['age'].describe())\n",
    "print('\\n\\n',test[test['age'] != 0]['age'].describe())"
   ]
  },
  {
   "cell_type": "markdown",
   "id": "024a5c78",
   "metadata": {
    "papermill": {
     "duration": 0.03526,
     "end_time": "2023-08-27T00:56:20.420783",
     "exception": false,
     "start_time": "2023-08-27T00:56:20.385523",
     "status": "completed"
    },
    "tags": []
   },
   "source": [
    "Looks like the min age is 21 but the max age is unsure. So, that solo 0 is an outlier, which i decided to imput as mean, since the age is not that skewed"
   ]
  },
  {
   "cell_type": "code",
   "execution_count": 13,
   "id": "d821b320",
   "metadata": {
    "execution": {
     "iopub.execute_input": "2023-08-27T00:56:20.495459Z",
     "iopub.status.busy": "2023-08-27T00:56:20.494271Z",
     "iopub.status.idle": "2023-08-27T00:56:20.501952Z",
     "shell.execute_reply": "2023-08-27T00:56:20.501024Z"
    },
    "papermill": {
     "duration": 0.049167,
     "end_time": "2023-08-27T00:56:20.505043",
     "exception": false,
     "start_time": "2023-08-27T00:56:20.455876",
     "status": "completed"
    },
    "tags": []
   },
   "outputs": [],
   "source": [
    "# Imputing mean since data is not that skewed (age == 0 only happened once)\n",
    "train.loc[train['age'] == 0,'age'] = train['age'].mean()"
   ]
  },
  {
   "cell_type": "markdown",
   "id": "d6903709",
   "metadata": {
    "papermill": {
     "duration": 0.043441,
     "end_time": "2023-08-27T00:56:20.585894",
     "exception": false,
     "start_time": "2023-08-27T00:56:20.542453",
     "status": "completed"
    },
    "tags": []
   },
   "source": [
    "Evaluating multicolinearity with correlation heatmap"
   ]
  },
  {
   "cell_type": "markdown",
   "id": "26eef36d",
   "metadata": {
    "papermill": {
     "duration": 0.034512,
     "end_time": "2023-08-27T00:56:20.657685",
     "exception": false,
     "start_time": "2023-08-27T00:56:20.623173",
     "status": "completed"
    },
    "tags": []
   },
   "source": [
    "# Features selection"
   ]
  },
  {
   "cell_type": "markdown",
   "id": "daf83872",
   "metadata": {
    "papermill": {
     "duration": 0.037066,
     "end_time": "2023-08-27T00:56:20.730681",
     "exception": false,
     "start_time": "2023-08-27T00:56:20.693615",
     "status": "completed"
    },
    "tags": []
   },
   "source": [
    "## Evaluating multicolinearity"
   ]
  },
  {
   "cell_type": "code",
   "execution_count": 14,
   "id": "315c88b7",
   "metadata": {
    "execution": {
     "iopub.execute_input": "2023-08-27T00:56:20.823606Z",
     "iopub.status.busy": "2023-08-27T00:56:20.822726Z",
     "iopub.status.idle": "2023-08-27T00:56:22.068842Z",
     "shell.execute_reply": "2023-08-27T00:56:22.066912Z"
    },
    "papermill": {
     "duration": 1.300281,
     "end_time": "2023-08-27T00:56:22.073871",
     "exception": false,
     "start_time": "2023-08-27T00:56:20.773590",
     "status": "completed"
    },
    "tags": []
   },
   "outputs": [
    {
     "data": {
      "image/png": "[encoded data removed]",
      "text/plain": [
       "<Figure size 1000x600 with 2 Axes>"
      ]
     },
     "metadata": {},
     "output_type": "display_data"
    }
   ],
   "source": [
    "plt.figure(figsize=(10, 6))\n",
    "# plotting correlation heatmap\n",
    "dataplot = sns.heatmap(train.corr(), cmap=\"YlGnBu\", annot=True)\n",
    "\n",
    "# displaying heatmap\n",
    "plt.show()"
   ]
  },
  {
   "cell_type": "markdown",
   "id": "5a5f7924",
   "metadata": {
    "papermill": {
     "duration": 0.039877,
     "end_time": "2023-08-27T00:56:22.154421",
     "exception": false,
     "start_time": "2023-08-27T00:56:22.114544",
     "status": "completed"
    },
    "tags": []
   },
   "source": [
    "Looks like we have three pairs of variables that will result in the multicolinearity problem. Let's explicitly get the pairs. I plan on removing one of the variables of the pairs that has over 0.7"
   ]
  },
  {
   "cell_type": "code",
   "execution_count": 15,
   "id": "4607da79",
   "metadata": {
    "execution": {
     "iopub.execute_input": "2023-08-27T00:56:22.236492Z",
     "iopub.status.busy": "2023-08-27T00:56:22.236081Z",
     "iopub.status.idle": "2023-08-27T00:56:22.324384Z",
     "shell.execute_reply": "2023-08-27T00:56:22.323084Z"
    },
    "papermill": {
     "duration": 0.134138,
     "end_time": "2023-08-27T00:56:22.328196",
     "exception": false,
     "start_time": "2023-08-27T00:56:22.194058",
     "status": "completed"
    },
    "tags": []
   },
   "outputs": [
    {
     "name": "stdout",
     "output_type": "stream",
     "text": [
      "High correlation pairs:\n",
      "\n",
      "('NumberOfTime30-59DaysPastDueNotWorse', 'NumberOfTimes90DaysLate')\n",
      "('NumberOfTime30-59DaysPastDueNotWorse', 'NumberOfTime60-89DaysPastDueNotWorse')\n",
      "('NumberOfTimes90DaysLate', 'NumberOfTime60-89DaysPastDueNotWorse')\n"
     ]
    }
   ],
   "source": [
    "correlation_matrix = train.corr()\n",
    "\n",
    "\n",
    "multicolinearity_pairs = []\n",
    "for i in range(len(correlation_matrix.columns)):\n",
    "    for j in range(i + 1, len(correlation_matrix.columns)):\n",
    "        if abs(correlation_matrix.iloc[i, j]) > 0.7:\n",
    "            multicolinearity_pairs.append((correlation_matrix.columns[i], correlation_matrix.columns[j]))\n",
    "\n",
    "\n",
    "print('High correlation pairs:\\n')            \n",
    "for pair in multicolinearity_pairs:\n",
    "    print(pair)"
   ]
  },
  {
   "cell_type": "markdown",
   "id": "657296f3",
   "metadata": {
    "papermill": {
     "duration": 0.039085,
     "end_time": "2023-08-27T00:56:22.407730",
     "exception": false,
     "start_time": "2023-08-27T00:56:22.368645",
     "status": "completed"
    },
    "tags": []
   },
   "source": [
    "I will only choose what variables will be removed after training a model and seeing the importances, even though i will probably maintain 30-59 Days since it's more related to the target"
   ]
  },
  {
   "cell_type": "markdown",
   "id": "3a2dec21",
   "metadata": {
    "papermill": {
     "duration": 0.040333,
     "end_time": "2023-08-27T00:56:22.486875",
     "exception": false,
     "start_time": "2023-08-27T00:56:22.446542",
     "status": "completed"
    },
    "tags": []
   },
   "source": [
    "UPDATE: it seemed that removing those columns (two or one out of three that are correlated) only made it worse. It's probably due to the slightly correlation between those columns and the output"
   ]
  },
  {
   "cell_type": "markdown",
   "id": "bfbadbd4",
   "metadata": {
    "papermill": {
     "duration": 0.038361,
     "end_time": "2023-08-27T00:56:22.564782",
     "exception": false,
     "start_time": "2023-08-27T00:56:22.526421",
     "status": "completed"
    },
    "tags": []
   },
   "source": [
    "# Modeling"
   ]
  },
  {
   "cell_type": "markdown",
   "id": "67d2a2dc",
   "metadata": {
    "papermill": {
     "duration": 0.039797,
     "end_time": "2023-08-27T00:56:22.643518",
     "exception": false,
     "start_time": "2023-08-27T00:56:22.603721",
     "status": "completed"
    },
    "tags": []
   },
   "source": [
    "## Feature and target columns selection"
   ]
  },
  {
   "cell_type": "markdown",
   "id": "8f8ca4b2",
   "metadata": {
    "papermill": {
     "duration": 0.039436,
     "end_time": "2023-08-27T00:56:22.722316",
     "exception": false,
     "start_time": "2023-08-27T00:56:22.682880",
     "status": "completed"
    },
    "tags": []
   },
   "source": [
    "For now i'll use every column except Unnamed: 0 in order to build the dumb and baseline model"
   ]
  },
  {
   "cell_type": "code",
   "execution_count": 16,
   "id": "e98f477f",
   "metadata": {
    "execution": {
     "iopub.execute_input": "2023-08-27T00:56:22.807809Z",
     "iopub.status.busy": "2023-08-27T00:56:22.805731Z",
     "iopub.status.idle": "2023-08-27T00:56:22.820942Z",
     "shell.execute_reply": "2023-08-27T00:56:22.819922Z"
    },
    "papermill": {
     "duration": 0.06032,
     "end_time": "2023-08-27T00:56:22.823765",
     "exception": false,
     "start_time": "2023-08-27T00:56:22.763445",
     "status": "completed"
    },
    "tags": []
   },
   "outputs": [],
   "source": [
    "feature_columns = train.drop('SeriousDlqin2yrs',axis=1).columns"
   ]
  },
  {
   "cell_type": "code",
   "execution_count": 17,
   "id": "e932496b",
   "metadata": {
    "execution": {
     "iopub.execute_input": "2023-08-27T00:56:22.905221Z",
     "iopub.status.busy": "2023-08-27T00:56:22.904496Z",
     "iopub.status.idle": "2023-08-27T00:56:22.910445Z",
     "shell.execute_reply": "2023-08-27T00:56:22.909326Z"
    },
    "papermill": {
     "duration": 0.04948,
     "end_time": "2023-08-27T00:56:22.912949",
     "exception": false,
     "start_time": "2023-08-27T00:56:22.863469",
     "status": "completed"
    },
    "tags": []
   },
   "outputs": [],
   "source": [
    "target_column = ['SeriousDlqin2yrs']"
   ]
  },
  {
   "cell_type": "markdown",
   "id": "2013bab6",
   "metadata": {
    "papermill": {
     "duration": 0.043176,
     "end_time": "2023-08-27T00:56:22.998765",
     "exception": false,
     "start_time": "2023-08-27T00:56:22.955589",
     "status": "completed"
    },
    "tags": []
   },
   "source": [
    "## Imputation (selection and optimization)"
   ]
  },
  {
   "cell_type": "markdown",
   "id": "d4141ef1",
   "metadata": {
    "papermill": {
     "duration": 0.043089,
     "end_time": "2023-08-27T00:56:23.085669",
     "exception": false,
     "start_time": "2023-08-27T00:56:23.042580",
     "status": "completed"
    },
    "tags": []
   },
   "source": [
    "Before doing baseline modeling, we have to impute the data"
   ]
  },
  {
   "cell_type": "markdown",
   "id": "71a46235",
   "metadata": {
    "papermill": {
     "duration": 0.042183,
     "end_time": "2023-08-27T00:56:23.169172",
     "exception": false,
     "start_time": "2023-08-27T00:56:23.126989",
     "status": "completed"
    },
    "tags": []
   },
   "source": [
    "I first tried every imputation algorithm in sklearn and, with the accuracy, selected the best imputation (IterativeImputer). Then i did some grid search to optimize the hyperparameters"
   ]
  },
  {
   "cell_type": "code",
   "execution_count": 18,
   "id": "28ccbbe9",
   "metadata": {
    "execution": {
     "iopub.execute_input": "2023-08-27T00:56:23.258224Z",
     "iopub.status.busy": "2023-08-27T00:56:23.257397Z",
     "iopub.status.idle": "2023-08-27T00:56:23.292709Z",
     "shell.execute_reply": "2023-08-27T00:56:23.291405Z"
    },
    "papermill": {
     "duration": 0.086158,
     "end_time": "2023-08-27T00:56:23.296096",
     "exception": false,
     "start_time": "2023-08-27T00:56:23.209938",
     "status": "completed"
    },
    "tags": []
   },
   "outputs": [],
   "source": [
    "X_train, X_test, y_train, y_test = train_test_split(train[feature_columns], train[target_column],\n",
    "                                                    random_state=18)"
   ]
  },
  {
   "cell_type": "markdown",
   "id": "e789d7ea",
   "metadata": {
    "papermill": {
     "duration": 0.040056,
     "end_time": "2023-08-27T00:56:23.375340",
     "exception": false,
     "start_time": "2023-08-27T00:56:23.335284",
     "status": "completed"
    },
    "tags": []
   },
   "source": [
    "## Dumb model"
   ]
  },
  {
   "cell_type": "markdown",
   "id": "53f4f862",
   "metadata": {
    "papermill": {
     "duration": 0.03956,
     "end_time": "2023-08-27T00:56:23.455315",
     "exception": false,
     "start_time": "2023-08-27T00:56:23.415755",
     "status": "completed"
    },
    "tags": []
   },
   "source": [
    "Dumb model: Predicting that the target will be the most frequent value"
   ]
  },
  {
   "cell_type": "code",
   "execution_count": 19,
   "id": "14baabee",
   "metadata": {
    "execution": {
     "iopub.execute_input": "2023-08-27T00:56:23.540624Z",
     "iopub.status.busy": "2023-08-27T00:56:23.540174Z",
     "iopub.status.idle": "2023-08-27T00:56:23.624304Z",
     "shell.execute_reply": "2023-08-27T00:56:23.622612Z"
    },
    "papermill": {
     "duration": 0.132093,
     "end_time": "2023-08-27T00:56:23.626957",
     "exception": false,
     "start_time": "2023-08-27T00:56:23.494864",
     "status": "completed"
    },
    "tags": []
   },
   "outputs": [
    {
     "name": "stdout",
     "output_type": "stream",
     "text": [
      "Dumb Model Accuracy: 0.9361866666666666\n"
     ]
    }
   ],
   "source": [
    "most_frequent_class = y_train.value_counts().idxmax()\n",
    "\n",
    "dumb_predictions = [most_frequent_class] * len(X_test)\n",
    "\n",
    "# Calculate accuracy\n",
    "dumb_accuracy = accuracy_score(y_test, dumb_predictions)\n",
    "\n",
    "print(f'Dumb Model Accuracy: {dumb_accuracy}')"
   ]
  },
  {
   "cell_type": "code",
   "execution_count": 20,
   "id": "affcd2e4",
   "metadata": {
    "execution": {
     "iopub.execute_input": "2023-08-27T00:56:23.708379Z",
     "iopub.status.busy": "2023-08-27T00:56:23.707568Z",
     "iopub.status.idle": "2023-08-27T00:56:23.716281Z",
     "shell.execute_reply": "2023-08-27T00:56:23.714747Z"
    },
    "papermill": {
     "duration": 0.052658,
     "end_time": "2023-08-27T00:56:23.719044",
     "exception": false,
     "start_time": "2023-08-27T00:56:23.666386",
     "status": "completed"
    },
    "tags": []
   },
   "outputs": [
    {
     "data": {
      "text/plain": [
       "(11, 1, 11, 1)"
      ]
     },
     "execution_count": 20,
     "metadata": {},
     "output_type": "execute_result"
    }
   ],
   "source": [
    "len(X_train.columns), len(y_train.columns), len(X_test.columns), len(y_test.columns)"
   ]
  },
  {
   "cell_type": "markdown",
   "id": "6c37919b",
   "metadata": {
    "papermill": {
     "duration": 0.0401,
     "end_time": "2023-08-27T00:56:23.798882",
     "exception": false,
     "start_time": "2023-08-27T00:56:23.758782",
     "status": "completed"
    },
    "tags": []
   },
   "source": [
    "The iterative imputer gave the best accuracy. Performing a grid search:"
   ]
  },
  {
   "cell_type": "markdown",
   "id": "5470665b",
   "metadata": {
    "papermill": {
     "duration": 0.040076,
     "end_time": "2023-08-27T00:56:23.879977",
     "exception": false,
     "start_time": "2023-08-27T00:56:23.839901",
     "status": "completed"
    },
    "tags": []
   },
   "source": [
    "## Imputation"
   ]
  },
  {
   "cell_type": "markdown",
   "id": "2b77f6db",
   "metadata": {
    "papermill": {
     "duration": 0.040255,
     "end_time": "2023-08-27T00:56:23.960412",
     "exception": false,
     "start_time": "2023-08-27T00:56:23.920157",
     "status": "completed"
    },
    "tags": []
   },
   "source": [
    "Finding best imputer for each model"
   ]
  },
  {
   "cell_type": "markdown",
   "id": "0db5b031",
   "metadata": {
    "papermill": {
     "duration": 0.04209,
     "end_time": "2023-08-27T00:56:24.043144",
     "exception": false,
     "start_time": "2023-08-27T00:56:24.001054",
     "status": "completed"
    },
    "tags": []
   },
   "source": [
    "Credit to https://www.kaggle.com/code/pouryaayria/a-complete-ml-pipeline-tutorial-acu-86, i made some changes to his functions but the main goal here is to determine the best imputers and scalers for each model"
   ]
  },
  {
   "cell_type": "code",
   "execution_count": 21,
   "id": "3f9946e2",
   "metadata": {
    "execution": {
     "iopub.execute_input": "2023-08-27T00:56:24.128954Z",
     "iopub.status.busy": "2023-08-27T00:56:24.128431Z",
     "iopub.status.idle": "2023-08-27T00:56:24.156689Z",
     "shell.execute_reply": "2023-08-27T00:56:24.155445Z"
    },
    "papermill": {
     "duration": 0.074193,
     "end_time": "2023-08-27T00:56:24.159683",
     "exception": false,
     "start_time": "2023-08-27T00:56:24.085490",
     "status": "completed"
    },
    "tags": []
   },
   "outputs": [],
   "source": [
    "def BasedLine2(X_train, y_train,models):\n",
    "    # Test options and evaluation metric\n",
    "    num_folds = 10\n",
    "    scoring = 'roc_auc'\n",
    "\n",
    "    results = []\n",
    "    names = []\n",
    "    for name, model in models:\n",
    "        kfold = StratifiedKFold(n_splits=num_folds)\n",
    "        cv_results = cross_val_score(model, X_train, y_train, cv=kfold, scoring=scoring, n_jobs = -1)\n",
    "        results.append(cv_results)\n",
    "        names.append(name)\n",
    "        msg = \"%s: %f (%f)\" % (name, cv_results.mean(), cv_results.std())\n",
    "        print(msg)\n",
    "        \n",
    "    return names, results\n",
    "\n",
    "def GetScaledModel(nameOfScaler):\n",
    "    \n",
    "    if nameOfScaler == 'standard':\n",
    "        scaler = StandardScaler()\n",
    "    elif nameOfScaler =='minmax':\n",
    "        scaler = MinMaxScaler()\n",
    "    elif nameOfScaler == 'robust':\n",
    "        scaler = RobustScaler()\n",
    "\n",
    "    pipelines = []\n",
    "    pipelines.append((nameOfScaler+'LR'  , Pipeline([('Scaler', scaler),('LR'  , LogisticRegression())])))\n",
    "    pipelines.append((nameOfScaler+'LDA' , Pipeline([('Scaler', scaler),('LDA' , LinearDiscriminantAnalysis())])))\n",
    "    pipelines.append((nameOfScaler+'KNN' , Pipeline([('Scaler', scaler),('KNN' , KNeighborsClassifier())])))\n",
    "    pipelines.append((nameOfScaler+'CART', Pipeline([('Scaler', scaler),('CART', DecisionTreeClassifier())])))\n",
    "    pipelines.append((nameOfScaler+'NB'  , Pipeline([('Scaler', scaler),('NB'  , GaussianNB())])))\n",
    "    #pipelines.append((nameOfScaler+'SVM' , Pipeline([('Scaler', scaler),('SVM' , SVC())])))\n",
    "    pipelines.append((nameOfScaler+'AB'  , Pipeline([('Scaler', scaler),('AB'  , AdaBoostClassifier())])  ))\n",
    "    pipelines.append((nameOfScaler+'GBM' , Pipeline([('Scaler', scaler),('GMB' , GradientBoostingClassifier())])  ))\n",
    "    pipelines.append((nameOfScaler+'RF'  , Pipeline([('Scaler', scaler),('RF'  , RandomForestClassifier())])  ))\n",
    "    pipelines.append((nameOfScaler+'ET'  , Pipeline([('Scaler', scaler),('ET'  , ExtraTreesClassifier())])  ))\n",
    "    pipelines.append((nameOfScaler+'XGB'  , Pipeline([('Scaler', scaler),('XGB'  , XGBClassifier())])  ))\n",
    "\n",
    "\n",
    "    return pipelines \n",
    "\n",
    "def GetImputerModel(nameOfImputer):\n",
    "    \n",
    "    if nameOfImputer == 'mean':\n",
    "        imputer = SimpleImputer(strategy='mean')\n",
    "    elif nameOfImputer == 'median':\n",
    "        imputer = SimpleImputer(strategy='median')\n",
    "    elif nameOfImputer =='knn':\n",
    "        imputer = KNNImputer()\n",
    "    elif nameOfImputer == 'iterative':\n",
    "        imputer = IterativeImputer()\n",
    "\n",
    "    pipelines = []\n",
    "    pipelines.append((nameOfImputer+'LR'  , Pipeline([('Imputer', imputer),('LR'  , LogisticRegression(solver = 'lbfgs',max_iter = 1000))])))\n",
    "    pipelines.append((nameOfImputer+'LDA' , Pipeline([('Imputer', imputer),('LDA' , LinearDiscriminantAnalysis())])))\n",
    "    pipelines.append((nameOfImputer+'KNN' , Pipeline([('Imputer', imputer),('KNN' , KNeighborsClassifier())])))\n",
    "    pipelines.append((nameOfImputer+'CART', Pipeline([('Imputer', imputer),('CART', DecisionTreeClassifier())])))\n",
    "    pipelines.append((nameOfImputer+'NB'  , Pipeline([('Imputer', imputer),('NB'  , GaussianNB())])))\n",
    "    #pipelines.append((nameOfimputer+'SVM' , Pipeline([('Imputer', imputer),('SVM' , SVC())])))\n",
    "    pipelines.append((nameOfImputer+'AB'  , Pipeline([('Imputer', imputer),('AB'  , AdaBoostClassifier())])  ))\n",
    "    pipelines.append((nameOfImputer+'GBM' , Pipeline([('Imputer', imputer),('GMB' , GradientBoostingClassifier())])  ))\n",
    "    pipelines.append((nameOfImputer+'RF'  , Pipeline([('Imputer', imputer),('RF'  , RandomForestClassifier())])  ))\n",
    "    pipelines.append((nameOfImputer+'ET'  , Pipeline([('Imputer', imputer),('ET'  , ExtraTreesClassifier())])  ))\n",
    "    pipelines.append((nameOfImputer+'XGB'  , Pipeline([('Imputer', imputer),('XGB'  , XGBClassifier())])  ))\n",
    "\n",
    "    return pipelines \n",
    "\n",
    "def ScoreDataFrame(names,results):\n",
    "    def floatingDecimals(f_val, dec=3):\n",
    "        prc = \"{:.\"+str(dec)+\"f}\" \n",
    "    \n",
    "        return float(prc.format(f_val))\n",
    "\n",
    "    scores = []\n",
    "    for r in results:\n",
    "        scores.append(floatingDecimals(r.mean(),4))\n",
    "\n",
    "    scoreDataFrame = pd.DataFrame({'Model':names, 'Score': scores})\n",
    "    return scoreDataFrame"
   ]
  },
  {
   "cell_type": "markdown",
   "id": "0bed421a",
   "metadata": {
    "papermill": {
     "duration": 0.039022,
     "end_time": "2023-08-27T00:56:24.238376",
     "exception": false,
     "start_time": "2023-08-27T00:56:24.199354",
     "status": "completed"
    },
    "tags": []
   },
   "source": [
    "In order to get the best for each model, run the following code:"
   ]
  },
  {
   "cell_type": "code",
   "execution_count": 22,
   "id": "ec6d799a",
   "metadata": {
    "execution": {
     "iopub.execute_input": "2023-08-27T00:56:24.320902Z",
     "iopub.status.busy": "2023-08-27T00:56:24.320427Z",
     "iopub.status.idle": "2023-08-27T00:56:24.325046Z",
     "shell.execute_reply": "2023-08-27T00:56:24.324073Z"
    },
    "papermill": {
     "duration": 0.048852,
     "end_time": "2023-08-27T00:56:24.327322",
     "exception": false,
     "start_time": "2023-08-27T00:56:24.278470",
     "status": "completed"
    },
    "tags": []
   },
   "outputs": [],
   "source": [
    "# compareImputer = pd.DataFrame()\n",
    "# for imputer in ['mean', 'median', 'knn', 'iterative']:\n",
    "#     models = GetImputerModel(imputer)\n",
    "#     names,results = BasedLine2(X_train, y_train.iloc[:, 0].ravel(),models)\n",
    "#     imputerScore = ScoreDataFrame(names,results)\n",
    "#     compareImputer = pd.concat([compareImputer, imputerScore], ignore_index=True)"
   ]
  },
  {
   "cell_type": "markdown",
   "id": "1931b6c6",
   "metadata": {
    "papermill": {
     "duration": 0.039105,
     "end_time": "2023-08-27T00:56:24.406111",
     "exception": false,
     "start_time": "2023-08-27T00:56:24.367006",
     "status": "completed"
    },
    "tags": []
   },
   "source": [
    "You will get an output such as"
   ]
  },
  {
   "cell_type": "code",
   "execution_count": 23,
   "id": "79338f9b",
   "metadata": {
    "execution": {
     "iopub.execute_input": "2023-08-27T00:56:24.488047Z",
     "iopub.status.busy": "2023-08-27T00:56:24.487519Z",
     "iopub.status.idle": "2023-08-27T00:56:24.494277Z",
     "shell.execute_reply": "2023-08-27T00:56:24.492718Z"
    },
    "papermill": {
     "duration": 0.050954,
     "end_time": "2023-08-27T00:56:24.496798",
     "exception": false,
     "start_time": "2023-08-27T00:56:24.445844",
     "status": "completed"
    },
    "tags": []
   },
   "outputs": [],
   "source": [
    "# Score ranking:\n",
    "#               Model   Score\n",
    "# 24         knnGBM  0.9364\n",
    "# 33   iterativeGBM  0.9363\n",
    "# 6         meanGBM  0.9363\n",
    "# 15      medianGBM  0.9363\n",
    "# 14       medianAB  0.9350\n",
    "# 32    iterativeAB  0.9350\n",
    "# 5          meanAB  0.9350\n",
    "# 23          knnAB  0.9350\n",
    "# 25          knnRF  0.9349\n",
    "# 34    iterativeRF  0.9346\n",
    "# 7          meanRF  0.9346\n",
    "# 16       medianRF  0.9346\n",
    "# 19         knnLDA  0.9330\n",
    "# 1         meanLDA  0.9330\n",
    "# 10      medianLDA  0.9330\n",
    "# 28   iterativeLDA  0.9330\n",
    "# 17       medianET  0.9327\n",
    "# 35    iterativeET  0.9327\n",
    "# 26          knnET  0.9326\n",
    "# 8          meanET  0.9326\n",
    "# 27    iterativeLR  0.9323\n",
    "# 0          meanLR  0.9323\n",
    "# 9        medianLR  0.9323\n",
    "# 18          knnLR  0.9323\n",
    "# 22          knnNB  0.9317\n",
    "# 13       medianNB  0.9317\n",
    "# 31    iterativeNB  0.9317\n",
    "# 4          meanNB  0.9317\n",
    "# 20         knnknn  0.9306\n",
    "# 11      medianKNN  0.9306\n",
    "# 29   iterativeKNN  0.9306\n",
    "# 2         meanKNN  0.9306\n",
    "# 30  iterativeCART  0.8980\n",
    "# 21        knnCART  0.8978\n",
    "# 3        meanCART  0.8976\n",
    "# 12     medianCART  0.8975"
   ]
  },
  {
   "cell_type": "markdown",
   "id": "38830dee",
   "metadata": {
    "papermill": {
     "duration": 0.041044,
     "end_time": "2023-08-27T00:56:24.577266",
     "exception": false,
     "start_time": "2023-08-27T00:56:24.536222",
     "status": "completed"
    },
    "tags": []
   },
   "source": [
    "To build a more visual dataframe, you can separate Imputer and Model:"
   ]
  },
  {
   "cell_type": "code",
   "execution_count": 24,
   "id": "1ae4af04",
   "metadata": {
    "execution": {
     "iopub.execute_input": "2023-08-27T00:56:24.659438Z",
     "iopub.status.busy": "2023-08-27T00:56:24.658906Z",
     "iopub.status.idle": "2023-08-27T00:56:24.663804Z",
     "shell.execute_reply": "2023-08-27T00:56:24.662665Z"
    },
    "papermill": {
     "duration": 0.048891,
     "end_time": "2023-08-27T00:56:24.666311",
     "exception": false,
     "start_time": "2023-08-27T00:56:24.617420",
     "status": "completed"
    },
    "tags": []
   },
   "outputs": [],
   "source": [
    "# compareModels['Imputer'] = compareModels['Model'].str.extract(r'([a-z]+)')[0]\n",
    "# compareModels['Model'] = compareModels['Model'].str.extract(r'([A-Z]+)')[0]"
   ]
  },
  {
   "cell_type": "markdown",
   "id": "623e6ef4",
   "metadata": {
    "papermill": {
     "duration": 0.040354,
     "end_time": "2023-08-27T00:56:24.747304",
     "exception": false,
     "start_time": "2023-08-27T00:56:24.706950",
     "status": "completed"
    },
    "tags": []
   },
   "source": [
    "## Baseline model"
   ]
  },
  {
   "cell_type": "markdown",
   "id": "4317976e",
   "metadata": {
    "papermill": {
     "duration": 0.039506,
     "end_time": "2023-08-27T00:56:24.826295",
     "exception": false,
     "start_time": "2023-08-27T00:56:24.786789",
     "status": "completed"
    },
    "tags": []
   },
   "source": [
    "As seen before, the baseline accuracy is 0.93744"
   ]
  },
  {
   "cell_type": "code",
   "execution_count": 25,
   "id": "d25d9149",
   "metadata": {
    "execution": {
     "iopub.execute_input": "2023-08-27T00:56:24.910322Z",
     "iopub.status.busy": "2023-08-27T00:56:24.909630Z",
     "iopub.status.idle": "2023-08-27T01:01:37.992217Z",
     "shell.execute_reply": "2023-08-27T01:01:37.990446Z"
    },
    "papermill": {
     "duration": 313.17902,
     "end_time": "2023-08-27T01:01:38.045711",
     "exception": false,
     "start_time": "2023-08-27T00:56:24.866691",
     "status": "completed"
    },
    "tags": []
   },
   "outputs": [
    {
     "name": "stderr",
     "output_type": "stream",
     "text": [
      "/tmp/ipykernel_21/1452138335.py:6: DataConversionWarning: A column-vector y was passed when a 1d array was expected. Please change the shape of y to (n_samples,), for example using ravel().\n",
      "  model.fit(train_imputed, y_train)\n"
     ]
    },
    {
     "name": "stdout",
     "output_type": "stream",
     "text": [
      "Accuracy score:  0.9382933333333333\n"
     ]
    }
   ],
   "source": [
    "imputer = KNNImputer()\n",
    "train_imputed = imputer.fit_transform(X_train)\n",
    "test_imputed = imputer.transform(X_test)\n",
    "model = RandomForestClassifier()\n",
    "\n",
    "model.fit(train_imputed, y_train)\n",
    "predictions = model.predict(test_imputed)\n",
    "accuracy = accuracy_score(y_test, predictions)\n",
    "\n",
    "print('Accuracy score: ', accuracy)"
   ]
  },
  {
   "cell_type": "markdown",
   "id": "d08ee965",
   "metadata": {
    "papermill": {
     "duration": 0.039838,
     "end_time": "2023-08-27T01:01:38.126884",
     "exception": false,
     "start_time": "2023-08-27T01:01:38.087046",
     "status": "completed"
    },
    "tags": []
   },
   "source": [
    "## Scaling numerical features"
   ]
  },
  {
   "cell_type": "markdown",
   "id": "fec673a2",
   "metadata": {
    "papermill": {
     "duration": 0.039732,
     "end_time": "2023-08-27T01:01:38.208624",
     "exception": false,
     "start_time": "2023-08-27T01:01:38.168892",
     "status": "completed"
    },
    "tags": []
   },
   "source": [
    "Similar to imputation, finding the best scaler"
   ]
  },
  {
   "cell_type": "code",
   "execution_count": 26,
   "id": "146e24b1",
   "metadata": {
    "execution": {
     "iopub.execute_input": "2023-08-27T01:01:38.292149Z",
     "iopub.status.busy": "2023-08-27T01:01:38.291681Z",
     "iopub.status.idle": "2023-08-27T01:01:38.298492Z",
     "shell.execute_reply": "2023-08-27T01:01:38.297056Z"
    },
    "papermill": {
     "duration": 0.052426,
     "end_time": "2023-08-27T01:01:38.301702",
     "exception": false,
     "start_time": "2023-08-27T01:01:38.249276",
     "status": "completed"
    },
    "tags": []
   },
   "outputs": [],
   "source": [
    "compareScalers = pd.DataFrame()\n",
    "for scaler in ['standard', 'minmax', 'robust']:\n",
    "    models = GetScaledModel(scaler)\n",
    "    names,results = BasedLine2(X_train, y_train.iloc[:, 0].ravel(),models)\n",
    "    scalerScore = ScoreDataFrame(names,results)\n",
    "    compareScalers = pd.concat([compareScalers, scalerScore], ignore_index=True)"
   ]
  },
  {
   "cell_type": "code",
   "execution_count": 27,
   "id": "449fa5c4",
   "metadata": {
    "execution": {
     "iopub.execute_input": "2023-08-27T01:01:38.383263Z",
     "iopub.status.busy": "2023-08-27T01:01:38.382786Z",
     "iopub.status.idle": "2023-08-27T01:01:38.388138Z",
     "shell.execute_reply": "2023-08-27T01:01:38.386754Z"
    },
    "papermill": {
     "duration": 0.049497,
     "end_time": "2023-08-27T01:01:38.390613",
     "exception": false,
     "start_time": "2023-08-27T01:01:38.341116",
     "status": "completed"
    },
    "tags": []
   },
   "outputs": [],
   "source": [
    "# compareScalers['Scaler'] = compareScalers['Model'].str.extract(r'([a-z]+)')[0]\n",
    "# compareScalers['Model'] = compareScalers['Model'].str.extract(r'([A-Z]+)')[0]"
   ]
  },
  {
   "cell_type": "code",
   "execution_count": 28,
   "id": "65a73efa",
   "metadata": {
    "execution": {
     "iopub.execute_input": "2023-08-27T01:01:38.472536Z",
     "iopub.status.busy": "2023-08-27T01:01:38.472013Z",
     "iopub.status.idle": "2023-08-27T01:01:38.477409Z",
     "shell.execute_reply": "2023-08-27T01:01:38.476215Z"
    },
    "papermill": {
     "duration": 0.049599,
     "end_time": "2023-08-27T01:01:38.479760",
     "exception": false,
     "start_time": "2023-08-27T01:01:38.430161",
     "status": "completed"
    },
    "tags": []
   },
   "outputs": [],
   "source": [
    "print('Score ranking:\\n ', compareScalers.sort_values(by=\"Score\",ascending=False),'\\n')\n",
    "print('Best Scaler for each model: \\n')\n",
    "best_indices = compareScalers.groupby('Model')['Score'].idxmax()\n",
    "best_scaler_and_score = compareScalers.loc[best_indices, ['Model', 'Scaler', 'Score']]\n",
    "print(best_scaler_and_score.reset_index(drop=True))"
   ]
  },
  {
   "cell_type": "markdown",
   "id": "e19a678a",
   "metadata": {
    "papermill": {
     "duration": 0.039265,
     "end_time": "2023-08-27T01:01:38.558145",
     "exception": false,
     "start_time": "2023-08-27T01:01:38.518880",
     "status": "completed"
    },
    "tags": []
   },
   "source": [
    "You will get an output such as:"
   ]
  },
  {
   "cell_type": "code",
   "execution_count": 29,
   "id": "874c0d7e",
   "metadata": {
    "execution": {
     "iopub.execute_input": "2023-08-27T01:01:38.642026Z",
     "iopub.status.busy": "2023-08-27T01:01:38.641582Z",
     "iopub.status.idle": "2023-08-27T01:01:38.647900Z",
     "shell.execute_reply": "2023-08-27T01:01:38.646667Z"
    },
    "papermill": {
     "duration": 0.051217,
     "end_time": "2023-08-27T01:01:38.650371",
     "exception": false,
     "start_time": "2023-08-27T01:01:38.599154",
     "status": "completed"
    },
    "tags": []
   },
   "outputs": [],
   "source": [
    "# Score ranking:\n",
    "#      Model   Score    Scaler\n",
    "# 24   GBM  0.9363  standard\n",
    "# 15   GBM  0.9363    robust\n",
    "# 6    GBM  0.9361    minmax\n",
    "# 14    AB  0.9350    robust\n",
    "# 23    AB  0.9348  standard\n",
    "# 16    RF  0.9347    robust\n",
    "# 5     AB  0.9346    minmax\n",
    "# 7     RF  0.9346    minmax\n",
    "# 25    RF  0.9343  standard\n",
    "# 19   LDA  0.9330  standard\n",
    "# 10   LDA  0.9330    robust\n",
    "# 18    LR  0.9330  standard\n",
    "# 1    LDA  0.9330    minmax\n",
    "# 17    ET  0.9327    robust\n",
    "# 26    ET  0.9325  standard\n",
    "# 8     ET  0.9325    minmax\n",
    "# 0     LR  0.9324    minmax\n",
    "# 2    KNN  0.9323    minmax\n",
    "# 9     LR  0.9322    robust\n",
    "# 20   KNN  0.9315  standard\n",
    "# 13    NB  0.9314    robust\n",
    "# 22    NB  0.9313  standard\n",
    "# 4     NB  0.9313    minmax\n",
    "# 11   KNN  0.9311    robust\n",
    "# 12  CART  0.8977    robust\n",
    "# 21  CART  0.8972  standard\n",
    "# 3   CART  0.8946    minmax \n",
    "\n",
    "# Best Scaler for each model: \n",
    "\n",
    "#   Model    Scaler   Score\n",
    "# 0    AB    robust  0.9350\n",
    "# 1  CART    robust  0.8977\n",
    "# 2    ET    robust  0.9327\n",
    "# 3   GBM    robust  0.9363\n",
    "# 4   KNN    minmax  0.9323\n",
    "# 5   LDA    minmax  0.9330\n",
    "# 6    LR  standard  0.9330\n",
    "# 7    NB    robust  0.9314\n",
    "# 8    RF    robust  0.9347"
   ]
  },
  {
   "cell_type": "markdown",
   "id": "743d26cb",
   "metadata": {
    "papermill": {
     "duration": 0.039947,
     "end_time": "2023-08-27T01:01:38.733841",
     "exception": false,
     "start_time": "2023-08-27T01:01:38.693894",
     "status": "completed"
    },
    "tags": []
   },
   "source": [
    "Difference between different scaling is not that significant, but still worth trying"
   ]
  },
  {
   "cell_type": "markdown",
   "id": "64722867",
   "metadata": {
    "papermill": {
     "duration": 0.040079,
     "end_time": "2023-08-27T01:01:38.813568",
     "exception": false,
     "start_time": "2023-08-27T01:01:38.773489",
     "status": "completed"
    },
    "tags": []
   },
   "source": [
    "# Hyperparameter tunning"
   ]
  },
  {
   "cell_type": "markdown",
   "id": "55ad699e",
   "metadata": {
    "papermill": {
     "duration": 0.040725,
     "end_time": "2023-08-27T01:01:38.895024",
     "exception": false,
     "start_time": "2023-08-27T01:01:38.854299",
     "status": "completed"
    },
    "tags": []
   },
   "source": [
    "I'm commentating over my code since it takes a lot of time (if you want to reduce it, just lower the cv). I haven't found a way to skip some cells in kaggle runcode, so i will keep it like that. Feel free to test and see the results on your own"
   ]
  },
  {
   "cell_type": "markdown",
   "id": "ef8d0737",
   "metadata": {
    "papermill": {
     "duration": 0.040401,
     "end_time": "2023-08-27T01:01:38.976460",
     "exception": false,
     "start_time": "2023-08-27T01:01:38.936059",
     "status": "completed"
    },
    "tags": []
   },
   "source": [
    "## LogisticRegression"
   ]
  },
  {
   "cell_type": "code",
   "execution_count": 30,
   "id": "e2582a88",
   "metadata": {
    "execution": {
     "iopub.execute_input": "2023-08-27T01:01:39.059412Z",
     "iopub.status.busy": "2023-08-27T01:01:39.059002Z",
     "iopub.status.idle": "2023-08-27T01:01:39.065401Z",
     "shell.execute_reply": "2023-08-27T01:01:39.063847Z"
    },
    "papermill": {
     "duration": 0.051773,
     "end_time": "2023-08-27T01:01:39.069055",
     "exception": false,
     "start_time": "2023-08-27T01:01:39.017282",
     "status": "completed"
    },
    "tags": []
   },
   "outputs": [],
   "source": [
    "models = [LogisticRegression()]\n",
    "\n",
    "param_grids = {\n",
    "    'C': Real(0.01, 4.0, prior='log-uniform'),\n",
    "    'penalty': Categorical(['l2', 'none']) \n",
    "}\n",
    "\n",
    "clf1 = BayesSearchCV(\n",
    "    LogisticRegression(),\n",
    "    param_grids,\n",
    "    scoring='roc_auc',\n",
    "    cv=10,\n",
    "    n_jobs=-1,\n",
    "    n_iter=32,\n",
    "    verbose=2,\n",
    "    random_state=42\n",
    ")\n",
    "\n",
    "warnings.filterwarnings(\"ignore\", category=DeprecationWarning)\n",
    "clf1.fit(train_imputed, y_train)\n",
    "\n",
    "message = (clf1.best_score_, clf1.best_params_)\n",
    "print(\"Best: %f using %s\" % message)\n",
    "\n",
    "# results = clf1.cv_results_\n",
    "# for i, (params, score) in enumerate(zip(results['params'], results['mean_test_score'])):\n",
    "#     print(f\"Iteration {i + 1}: Hyperparameters: {params}, Score: {score}\")\n"
   ]
  },
  {
   "cell_type": "markdown",
   "id": "62de6305",
   "metadata": {
    "papermill": {
     "duration": 0.039848,
     "end_time": "2023-08-27T01:01:39.148739",
     "exception": false,
     "start_time": "2023-08-27T01:01:39.108891",
     "status": "completed"
    },
    "tags": []
   },
   "source": [
    "## KNeighborsClassifier"
   ]
  },
  {
   "cell_type": "code",
   "execution_count": 31,
   "id": "a3857670",
   "metadata": {
    "execution": {
     "iopub.execute_input": "2023-08-27T01:01:39.233491Z",
     "iopub.status.busy": "2023-08-27T01:01:39.232732Z",
     "iopub.status.idle": "2023-08-27T01:01:39.239270Z",
     "shell.execute_reply": "2023-08-27T01:01:39.237853Z"
    },
    "papermill": {
     "duration": 0.052481,
     "end_time": "2023-08-27T01:01:39.242281",
     "exception": false,
     "start_time": "2023-08-27T01:01:39.189800",
     "status": "completed"
    },
    "tags": []
   },
   "outputs": [],
   "source": [
    "models = [LogisticRegression()]\n",
    "\n",
    "param_grids = {'n_neighbors': [1,2,3,4,5,6,7,8,9,10,11,12,13,14,15,16,17,18,19,20]}\n",
    "\n",
    "clf2 = BayesSearchCV(\n",
    "    KNeighborsClassifier(),\n",
    "    param_grids,\n",
    "    scoring='roc_auc',\n",
    "    cv=10,\n",
    "    n_jobs=-1,\n",
    "    n_iter=32,\n",
    "    verbose=2,\n",
    "    random_state=42\n",
    ")\n",
    "\n",
    "warnings.filterwarnings(\"ignore\", category=DeprecationWarning)\n",
    "clf2.fit(train_imputed, y_train)\n",
    "\n",
    "message = (clf2.best_score_, clf2.best_params_)\n",
    "print(\"Best: %f using %s\" % message)"
   ]
  },
  {
   "cell_type": "code",
   "execution_count": 32,
   "id": "253b45d3",
   "metadata": {
    "execution": {
     "iopub.execute_input": "2023-08-27T01:01:39.325778Z",
     "iopub.status.busy": "2023-08-27T01:01:39.325347Z",
     "iopub.status.idle": "2023-08-27T01:01:39.331581Z",
     "shell.execute_reply": "2023-08-27T01:01:39.329768Z"
    },
    "papermill": {
     "duration": 0.050997,
     "end_time": "2023-08-27T01:01:39.334486",
     "exception": false,
     "start_time": "2023-08-27T01:01:39.283489",
     "status": "completed"
    },
    "tags": []
   },
   "outputs": [],
   "source": [
    "results = clf2.cv_results_\n",
    "for i, (params, score) in enumerate(zip(results['params'], results['mean_test_score'])):\n",
    "    print(f\"Iteration {i + 1}: Hyperparameters: {params}, Score: {score}\")"
   ]
  },
  {
   "cell_type": "markdown",
   "id": "9acb41d9",
   "metadata": {
    "papermill": {
     "duration": 0.041357,
     "end_time": "2023-08-27T01:01:39.417428",
     "exception": false,
     "start_time": "2023-08-27T01:01:39.376071",
     "status": "completed"
    },
    "tags": []
   },
   "source": [
    "## DecisionTreeClassifier"
   ]
  },
  {
   "cell_type": "code",
   "execution_count": 33,
   "id": "6eedc54e",
   "metadata": {
    "execution": {
     "iopub.execute_input": "2023-08-27T01:01:39.504036Z",
     "iopub.status.busy": "2023-08-27T01:01:39.503549Z",
     "iopub.status.idle": "2023-08-27T01:01:39.510386Z",
     "shell.execute_reply": "2023-08-27T01:01:39.508956Z"
    },
    "papermill": {
     "duration": 0.055217,
     "end_time": "2023-08-27T01:01:39.513300",
     "exception": false,
     "start_time": "2023-08-27T01:01:39.458083",
     "status": "completed"
    },
    "tags": []
   },
   "outputs": [],
   "source": [
    "param = {'criterion': 'gini', 'max_depth': 3, 'max_features': 2, 'min_samples_leaf': 3}\n",
    "# model4 = DecisionTreeClassifier(**param)\n",
    "\n",
    "models = [DecisionTreeClassifier()]\n",
    "\n",
    "param_grid = {\n",
    "    'criterion': [\"gini\", \"entropy\"],\n",
    "    'max_depth': [3, None],\n",
    "    'max_features': randint(1, 4),\n",
    "    'min_samples_leaf': randint(1, 4)\n",
    "}\n",
    "\n",
    "clf3 = RandomizedSearchCV(\n",
    "    DecisionTreeClassifier(),\n",
    "    param_grid,\n",
    "    scoring='roc_auc',\n",
    "    cv=10,\n",
    "    n_jobs=-1,\n",
    "    n_iter=32,\n",
    "    verbose=2,\n",
    "    random_state=42\n",
    ")\n",
    "\n",
    "warnings.filterwarnings(\"ignore\", category=DeprecationWarning)\n",
    "clf3.fit(train_imputed, y_train)\n",
    "\n",
    "message = (clf3.best_score_, clf3.best_params_)\n",
    "print(\"Best: %f using %s\" % message)"
   ]
  },
  {
   "cell_type": "code",
   "execution_count": 34,
   "id": "560b01c5",
   "metadata": {
    "execution": {
     "iopub.execute_input": "2023-08-27T01:01:39.595594Z",
     "iopub.status.busy": "2023-08-27T01:01:39.595114Z",
     "iopub.status.idle": "2023-08-27T01:01:39.600597Z",
     "shell.execute_reply": "2023-08-27T01:01:39.599294Z"
    },
    "papermill": {
     "duration": 0.049924,
     "end_time": "2023-08-27T01:01:39.603128",
     "exception": false,
     "start_time": "2023-08-27T01:01:39.553204",
     "status": "completed"
    },
    "tags": []
   },
   "outputs": [],
   "source": [
    "results = clf3.cv_results_\n",
    "for i, (params, score) in enumerate(zip(results['params'], results['mean_test_score'])):\n",
    "    print(f\"Iteration {i + 1}: Hyperparameters: {params}, Score: {score}\")"
   ]
  },
  {
   "cell_type": "markdown",
   "id": "59aab5cf",
   "metadata": {
    "papermill": {
     "duration": 0.039346,
     "end_time": "2023-08-27T01:01:39.684237",
     "exception": false,
     "start_time": "2023-08-27T01:01:39.644891",
     "status": "completed"
    },
    "tags": []
   },
   "source": [
    "## AdaBoostClassifier"
   ]
  },
  {
   "cell_type": "code",
   "execution_count": 35,
   "id": "7f45041e",
   "metadata": {
    "execution": {
     "iopub.execute_input": "2023-08-27T01:01:39.771500Z",
     "iopub.status.busy": "2023-08-27T01:01:39.771013Z",
     "iopub.status.idle": "2023-08-27T01:01:39.777162Z",
     "shell.execute_reply": "2023-08-27T01:01:39.775842Z"
    },
    "papermill": {
     "duration": 0.051447,
     "end_time": "2023-08-27T01:01:39.779543",
     "exception": false,
     "start_time": "2023-08-27T01:01:39.728096",
     "status": "completed"
    },
    "tags": []
   },
   "outputs": [],
   "source": [
    "# Define the parameter grid for AdaBoostClassifier\n",
    "param_grid = {\n",
    "    'learning_rate': [0.01, 0.05, 0.1, 0.5, 1],\n",
    "    'n_estimators': [50, 100, 150, 200, 250, 300]\n",
    "}\n",
    "\n",
    "# Create an AdaBoostClassifier instance\n",
    "model = AdaBoostClassifier()\n",
    "\n",
    "# Create a RandomizedSearchCV instance for AdaBoostClassifier\n",
    "clf4 = RandomizedSearchCV(\n",
    "    model,\n",
    "    param_grid,\n",
    "    scoring='roc_auc',\n",
    "    cv=10,\n",
    "    n_jobs=-1,\n",
    "    n_iter=32,\n",
    "    verbose=10,\n",
    "    random_state=42\n",
    ")\n",
    "\n",
    "warnings.filterwarnings(\"ignore\", category=DeprecationWarning)\n",
    "\n",
    "# Fit the model\n",
    "clf4.fit(train_imputed.head(100), y_train.head(100))\n",
    "\n",
    "# Get the best score and parameters\n",
    "message = (clf4.best_score_, clf4.best_params_)\n",
    "print(\"Best: %f using %s\" % message)\n",
    "\n"
   ]
  },
  {
   "cell_type": "code",
   "execution_count": 36,
   "id": "a7b3c6dc",
   "metadata": {
    "execution": {
     "iopub.execute_input": "2023-08-27T01:01:39.861873Z",
     "iopub.status.busy": "2023-08-27T01:01:39.861394Z",
     "iopub.status.idle": "2023-08-27T01:01:39.866471Z",
     "shell.execute_reply": "2023-08-27T01:01:39.865484Z"
    },
    "papermill": {
     "duration": 0.04976,
     "end_time": "2023-08-27T01:01:39.869219",
     "exception": false,
     "start_time": "2023-08-27T01:01:39.819459",
     "status": "completed"
    },
    "tags": []
   },
   "outputs": [],
   "source": [
    "for i in range(len(clf3.cv_results_['params'])):\n",
    "    print(f\"Iteração {i + 1}:\")\n",
    "    print(f\"Parâmetros: {random_search.cv_results_['params'][i]}\")\n",
    "    print(f\"Pontuação média: {random_search.cv_results_['mean_test_score'][i]}\")\n",
    "    print(f\"Desvio padrão: {random_search.cv_results_['std_test_score'][i]}\")\n",
    "    print()"
   ]
  },
  {
   "cell_type": "markdown",
   "id": "5d0144b0",
   "metadata": {
    "papermill": {
     "duration": 0.03972,
     "end_time": "2023-08-27T01:01:39.950214",
     "exception": false,
     "start_time": "2023-08-27T01:01:39.910494",
     "status": "completed"
    },
    "tags": []
   },
   "source": [
    "## GradientBoostingClassifier"
   ]
  },
  {
   "cell_type": "code",
   "execution_count": 37,
   "id": "42493a14",
   "metadata": {
    "execution": {
     "iopub.execute_input": "2023-08-27T01:01:40.035496Z",
     "iopub.status.busy": "2023-08-27T01:01:40.034251Z",
     "iopub.status.idle": "2023-08-27T01:01:40.040950Z",
     "shell.execute_reply": "2023-08-27T01:01:40.039425Z"
    },
    "papermill": {
     "duration": 0.052913,
     "end_time": "2023-08-27T01:01:40.043832",
     "exception": false,
     "start_time": "2023-08-27T01:01:39.990919",
     "status": "completed"
    },
    "tags": []
   },
   "outputs": [],
   "source": [
    "param_grid = {\n",
    "    'learning_rate': [.01,.05,.1,.5,1],\n",
    "    'n_estimators': [50,100,150,200,250,300]\n",
    "}\n",
    "\n",
    "# Create an AdaBoostClassifier instance\n",
    "model = GradientBoostingClassifier()\n",
    "\n",
    "# Create a RandomizedSearchCV instance for AdaBoostClassifier\n",
    "clf5 = RandomizedSearchCV(\n",
    "    model,\n",
    "    param_grid,\n",
    "    scoring='roc_auc',\n",
    "    cv=10,\n",
    "    n_jobs=-1,\n",
    "    n_iter=32,\n",
    "    verbose=1,\n",
    "    random_state=42\n",
    ")\n",
    "\n",
    "warnings.filterwarnings(\"ignore\", category=DeprecationWarning)\n",
    "\n",
    "# Fit the model\n",
    "clf5.fit(train_imputed, y_train)\n",
    "\n",
    "# Get the best score and parameters\n",
    "message = (clf5.best_score_, clf5.best_params_)\n",
    "print(\"Best: %f using %s\" % message)"
   ]
  },
  {
   "cell_type": "markdown",
   "id": "48bee9f8",
   "metadata": {
    "papermill": {
     "duration": 0.042594,
     "end_time": "2023-08-27T01:01:40.129034",
     "exception": false,
     "start_time": "2023-08-27T01:01:40.086440",
     "status": "completed"
    },
    "tags": []
   },
   "source": [
    "## Random Forest Classifier"
   ]
  },
  {
   "cell_type": "code",
   "execution_count": 38,
   "id": "69f61863",
   "metadata": {
    "execution": {
     "iopub.execute_input": "2023-08-27T01:01:40.215102Z",
     "iopub.status.busy": "2023-08-27T01:01:40.214589Z",
     "iopub.status.idle": "2023-08-27T01:01:40.221398Z",
     "shell.execute_reply": "2023-08-27T01:01:40.219839Z"
    },
    "papermill": {
     "duration": 0.053293,
     "end_time": "2023-08-27T01:01:40.224252",
     "exception": false,
     "start_time": "2023-08-27T01:01:40.170959",
     "status": "completed"
    },
    "tags": []
   },
   "outputs": [],
   "source": [
    "param_grid = {\n",
    "    'bootstrap': [True],\n",
    "    'max_depth': [80, 90, 100, 110],\n",
    "    'max_features': [2, 3],\n",
    "    'min_samples_leaf': [3, 4, 5],\n",
    "    'min_samples_split': [8, 10, 12],\n",
    "    'n_estimators': [100, 200, 300, 1000]\n",
    "}\n",
    "\n",
    "model = RandomForestClassifier()\n",
    "\n",
    "# Create a RandomizedSearchCV instance for AdaBoostClassifier\n",
    "clf6 = RandomizedSearchCV(\n",
    "    model,\n",
    "    param_grid,\n",
    "    scoring='roc_auc',\n",
    "    cv=10,\n",
    "    n_jobs=-1,\n",
    "    n_iter=32,\n",
    "    verbose=1,\n",
    "    random_state=42\n",
    ")\n",
    "\n",
    "# Fit the model\n",
    "clf6.fit(train_imputed, y_train)\n",
    "\n",
    "# Get the best score and parameters\n",
    "message = (clf6.best_score_, clf6.best_params_)\n",
    "print(\"Best: %f using %s\" % message)"
   ]
  },
  {
   "cell_type": "markdown",
   "id": "29f5a6e2",
   "metadata": {
    "papermill": {
     "duration": 0.039244,
     "end_time": "2023-08-27T01:01:40.303670",
     "exception": false,
     "start_time": "2023-08-27T01:01:40.264426",
     "status": "completed"
    },
    "tags": []
   },
   "source": [
    "## GaussianNB"
   ]
  },
  {
   "cell_type": "code",
   "execution_count": 39,
   "id": "064eaf4a",
   "metadata": {
    "execution": {
     "iopub.execute_input": "2023-08-27T01:01:40.385871Z",
     "iopub.status.busy": "2023-08-27T01:01:40.385331Z",
     "iopub.status.idle": "2023-08-27T01:01:40.391608Z",
     "shell.execute_reply": "2023-08-27T01:01:40.390294Z"
    },
    "papermill": {
     "duration": 0.050749,
     "end_time": "2023-08-27T01:01:40.394089",
     "exception": false,
     "start_time": "2023-08-27T01:01:40.343340",
     "status": "completed"
    },
    "tags": []
   },
   "outputs": [],
   "source": [
    "# Define the parameter grid (There are no hyperparameters for GaussianNB)\n",
    "param_grid = {\n",
    "    'var_smoothing': [1e-9, 1e-8, 1e-7, 1e-6, 1e-5]\n",
    "}\n",
    "\n",
    "# Create a GaussianNB instance\n",
    "model = GaussianNB()\n",
    "\n",
    "# Create a RandomizedSearchCV instance for GaussianNB\n",
    "clf6 = RandomizedSearchCV(  # Change clf to clf6\n",
    "    model,\n",
    "    param_grid,\n",
    "    scoring='roc_auc',\n",
    "    cv=10,\n",
    "    n_jobs=-1,\n",
    "    n_iter=5,  # Adjust the number of iterations as needed\n",
    "    verbose=1,\n",
    "    random_state=42\n",
    ")\n",
    "\n",
    "# Fit the model\n",
    "clf6.fit(train_imputed, y_train)\n",
    "\n",
    "# Get the best score and parameters\n",
    "message = (clf6.best_score_, clf6.best_params_)\n",
    "print(\"Best: %f using %s\" % message)"
   ]
  },
  {
   "cell_type": "markdown",
   "id": "be078cfc",
   "metadata": {
    "papermill": {
     "duration": 0.040144,
     "end_time": "2023-08-27T01:01:40.474356",
     "exception": false,
     "start_time": "2023-08-27T01:01:40.434212",
     "status": "completed"
    },
    "tags": []
   },
   "source": [
    "## ExtraTreesClassifier"
   ]
  },
  {
   "cell_type": "code",
   "execution_count": 40,
   "id": "471acd01",
   "metadata": {
    "execution": {
     "iopub.execute_input": "2023-08-27T01:01:40.559536Z",
     "iopub.status.busy": "2023-08-27T01:01:40.559087Z",
     "iopub.status.idle": "2023-08-27T01:01:40.565287Z",
     "shell.execute_reply": "2023-08-27T01:01:40.564017Z"
    },
    "papermill": {
     "duration": 0.052142,
     "end_time": "2023-08-27T01:01:40.568744",
     "exception": false,
     "start_time": "2023-08-27T01:01:40.516602",
     "status": "completed"
    },
    "tags": []
   },
   "outputs": [],
   "source": [
    "# Define the parameter grid for ExtraTreesClassifier\n",
    "param_grid = {\n",
    "    'n_estimators': [100, 200, 300, 1000],\n",
    "    'max_depth': [80, 90, 100, 110],\n",
    "    'min_samples_split': [8, 10, 12],\n",
    "    'min_samples_leaf': [3, 4, 5],\n",
    "    'max_features': [2, 3],\n",
    "    'bootstrap': [True]\n",
    "}\n",
    "\n",
    "# Create an ExtraTreesClassifier instance\n",
    "model = ExtraTreesClassifier()\n",
    "\n",
    "# Create a RandomizedSearchCV instance for ExtraTreesClassifier\n",
    "clf7 = RandomizedSearchCV(\n",
    "    model,\n",
    "    param_grid,\n",
    "    scoring='roc_auc',\n",
    "    cv=10,\n",
    "    n_jobs=-1,\n",
    "    n_iter=32,  # Adjust the number of iterations as needed\n",
    "    verbose=1,\n",
    "    random_state=42\n",
    ")\n",
    "\n",
    "# Fit the model\n",
    "clf7.fit(train_imputed, y_train)\n",
    "\n",
    "# Get the best score and parameters\n",
    "message = (clf7.best_score_, clf7.best_params_)\n",
    "print(\"Best: %f using %s\" % message)"
   ]
  },
  {
   "cell_type": "markdown",
   "id": "f2be8763",
   "metadata": {
    "papermill": {
     "duration": 0.039931,
     "end_time": "2023-08-27T01:01:40.651878",
     "exception": false,
     "start_time": "2023-08-27T01:01:40.611947",
     "status": "completed"
    },
    "tags": []
   },
   "source": [
    "## XGBClassifier"
   ]
  },
  {
   "cell_type": "code",
   "execution_count": 41,
   "id": "36d0127d",
   "metadata": {
    "execution": {
     "iopub.execute_input": "2023-08-27T01:01:40.740381Z",
     "iopub.status.busy": "2023-08-27T01:01:40.739868Z",
     "iopub.status.idle": "2023-08-27T01:01:40.746149Z",
     "shell.execute_reply": "2023-08-27T01:01:40.744725Z"
    },
    "papermill": {
     "duration": 0.054911,
     "end_time": "2023-08-27T01:01:40.749678",
     "exception": false,
     "start_time": "2023-08-27T01:01:40.694767",
     "status": "completed"
    },
    "tags": []
   },
   "outputs": [],
   "source": [
    "# Define the parameter grid for ExtraTreesClassifier\n",
    "param_grid = {\n",
    "        'min_child_weight': [1, 5, 10],\n",
    "        'gamma': [0.5, 1, 1.5, 2, 5],\n",
    "        'subsample': [0.6, 0.8, 1.0],\n",
    "        'colsample_bytree': [0.6, 0.8, 1.0],\n",
    "        'max_depth': [3, 4, 5]\n",
    "        }\n",
    "\n",
    "# Create an ExtraTreesClassifier instance\n",
    "model = XGBClassifier()\n",
    "\n",
    "# Create a RandomizedSearchCV instance for ExtraTreesClassifier\n",
    "xgb = RandomizedSearchCV(\n",
    "    model,\n",
    "    param_grid,\n",
    "    scoring='roc_auc',\n",
    "    cv=10,\n",
    "    n_jobs=-1,\n",
    "    n_iter=32,  # Adjust the number of iterations as needed\n",
    "    verbose=1,\n",
    "    random_state=42\n",
    ")\n",
    "\n",
    "# Fit the model\n",
    "xgb.fit(train_imputed, y_train)\n",
    "\n",
    "# Get the best score and parameters\n",
    "message = (xgb.best_score_, xgb.best_params_)\n",
    "print(\"Best: %f using %s\" % message)"
   ]
  },
  {
   "cell_type": "markdown",
   "id": "028a318a",
   "metadata": {
    "papermill": {
     "duration": 0.052903,
     "end_time": "2023-08-27T01:01:40.857421",
     "exception": false,
     "start_time": "2023-08-27T01:01:40.804518",
     "status": "completed"
    },
    "tags": []
   },
   "source": [
    "# Ensemble Voting"
   ]
  },
  {
   "cell_type": "markdown",
   "id": "ebb05164",
   "metadata": {
    "papermill": {
     "duration": 0.04017,
     "end_time": "2023-08-27T01:01:40.937672",
     "exception": false,
     "start_time": "2023-08-27T01:01:40.897502",
     "status": "completed"
    },
    "tags": []
   },
   "source": [
    "I found doing the scoring manually instead of straight using the VotingClassifier fundamental. With that, we can keep changing weights manually in order to find the best combination. In addition, we can also add one more model without having to refitting everything again.\n",
    "\n",
    "\n",
    "\n",
    "I actually got a significant improvement from changing weights (went from top 70 to top 30)"
   ]
  },
  {
   "cell_type": "code",
   "execution_count": 42,
   "id": "a3e46d57",
   "metadata": {
    "execution": {
     "iopub.execute_input": "2023-08-27T01:01:41.021179Z",
     "iopub.status.busy": "2023-08-27T01:01:41.020680Z",
     "iopub.status.idle": "2023-08-27T01:23:48.685002Z",
     "shell.execute_reply": "2023-08-27T01:23:48.683618Z"
    },
    "papermill": {
     "duration": 1327.711116,
     "end_time": "2023-08-27T01:23:48.688512",
     "exception": false,
     "start_time": "2023-08-27T01:01:40.977396",
     "status": "completed"
    },
    "tags": []
   },
   "outputs": [
    {
     "name": "stdout",
     "output_type": "stream",
     "text": [
      "[Voting] ...................... (1 of 5) Processing xgb, total=   4.6s\n"
     ]
    },
    {
     "name": "stderr",
     "output_type": "stream",
     "text": [
      "/opt/conda/lib/python3.10/site-packages/scipy/__init__.py:146: UserWarning: A NumPy version >=1.16.5 and <1.23.0 is required for this version of SciPy (detected version 1.23.5\n",
      "  warnings.warn(f\"A NumPy version >={np_minversion} and <{np_maxversion}\"\n",
      "/opt/conda/lib/python3.10/site-packages/scipy/__init__.py:146: UserWarning: A NumPy version >=1.16.5 and <1.23.0 is required for this version of SciPy (detected version 1.23.5\n",
      "  warnings.warn(f\"A NumPy version >={np_minversion} and <{np_maxversion}\"\n",
      "/opt/conda/lib/python3.10/site-packages/scipy/__init__.py:146: UserWarning: A NumPy version >=1.16.5 and <1.23.0 is required for this version of SciPy (detected version 1.23.5\n",
      "  warnings.warn(f\"A NumPy version >={np_minversion} and <{np_maxversion}\"\n",
      "/opt/conda/lib/python3.10/site-packages/scipy/__init__.py:146: UserWarning: A NumPy version >=1.16.5 and <1.23.0 is required for this version of SciPy (detected version 1.23.5\n",
      "  warnings.warn(f\"A NumPy version >={np_minversion} and <{np_maxversion}\"\n"
     ]
    },
    {
     "name": "stdout",
     "output_type": "stream",
     "text": [
      "[Voting] ....................... (2 of 5) Processing rf, total= 6.0min\n",
      "[Voting] ...................... (3 of 5) Processing gbm, total= 6.7min\n",
      "[Voting] ....................... (4 of 5) Processing et, total= 1.4min\n",
      "[Voting] ....................... (5 of 5) Processing ab, total=  17.8s\n"
     ]
    }
   ],
   "source": [
    "xgb_model = Pipeline([\n",
    "    ('scaler', StandardScaler()),\n",
    "    ('imputer', SimpleImputer(strategy='median')),\n",
    "    ('xgb', XGBClassifier(subsample=1, min_child_weight=10, max_depth=3, gamma=1.5, colsample_bytree=1))\n",
    "])\n",
    "\n",
    "randomForest = Pipeline([\n",
    "    ('scaler', RobustScaler()),\n",
    "    ('imputer', KNNImputer()),\n",
    "    ('RF', RandomForestClassifier(n_estimators=200, min_samples_split=12, min_samples_leaf=5,\n",
    "                                  max_features=2, max_depth=80, bootstrap=True, n_jobs=-1))\n",
    "])\n",
    "\n",
    "gbm = Pipeline([\n",
    "    ('scaler', RobustScaler()),\n",
    "    ('imputer', KNNImputer()),\n",
    "    ('GBM', GradientBoostingClassifier(n_estimators=250, learning_rate = 0.1))\n",
    "])\n",
    "\n",
    "extraTree = Pipeline([\n",
    "    ('scaler', RobustScaler()),\n",
    "    ('imputer', SimpleImputer(strategy='median')),\n",
    "    ('ET', ExtraTreesClassifier(n_estimators=1000, min_samples_split=8, min_samples_leaf=5,\n",
    "                                  max_features=3, max_depth=90, bootstrap=True))\n",
    "])\n",
    "adaBoost = Pipeline([\n",
    "    ('scaler', RobustScaler()),\n",
    "    ('imputer', SimpleImputer(strategy='median')),\n",
    "    ('AB', AdaBoostClassifier(n_estimators=100, learning_rate = 0.01))\n",
    "])\n",
    "\n",
    "estimators = [\n",
    "    ('xgb', xgb_model),  \n",
    "    ('rf', randomForest),\n",
    "    ('gbm', gbm),\n",
    "    ('et', extraTree),\n",
    "    ('ab', adaBoost)\n",
    "]\n",
    "\n",
    "ensemble_5_models = VotingClassifier(estimators, voting='soft', verbose=10)\n",
    "#probas = [c.fit(X, y).predict_proba(X) for c in estimators]\n",
    "\n",
    "\n",
    "ensemble_5_models.fit(train.drop(['Unnamed: 0', 'SeriousDlqin2yrs'], axis=1), train['SeriousDlqin2yrs'])\n",
    "\n",
    "individual_model_predictions = [estimator.predict_proba(test.drop(['Unnamed: 0', 'SeriousDlqin2yrs'], axis=1)) for estimator in ensemble_5_models.estimators_]\n",
    "\n",
    "weights = [9, 7, 5, 4, 1]\n",
    "weighted_predictions = sum(weight * prediction[:, 1] for weight, prediction in zip(weights, individual_model_predictions)) / sum(weights)\n",
    "#predictions = ensemble_5_models.predict_proba(test.drop(['Unnamed: 0', 'SeriousDlqin2yrs'], axis=1))"
   ]
  },
  {
   "cell_type": "code",
   "execution_count": 43,
   "id": "11017b62",
   "metadata": {
    "execution": {
     "iopub.execute_input": "2023-08-27T01:23:48.773295Z",
     "iopub.status.busy": "2023-08-27T01:23:48.772013Z",
     "iopub.status.idle": "2023-08-27T01:23:50.318538Z",
     "shell.execute_reply": "2023-08-27T01:23:50.316901Z"
    },
    "papermill": {
     "duration": 1.592537,
     "end_time": "2023-08-27T01:23:50.321720",
     "exception": false,
     "start_time": "2023-08-27T01:23:48.729183",
     "status": "completed"
    },
    "tags": []
   },
   "outputs": [
    {
     "data": {
      "text/plain": [
       "['ensemble_5_models.pkl']"
      ]
     },
     "execution_count": 43,
     "metadata": {},
     "output_type": "execute_result"
    }
   ],
   "source": [
    "import joblib\n",
    "joblib.dump(ensemble_5_models, 'ensemble_5_models.pkl')"
   ]
  },
  {
   "cell_type": "markdown",
   "id": "f9e2e0f5",
   "metadata": {
    "papermill": {
     "duration": 0.040391,
     "end_time": "2023-08-27T01:23:50.403403",
     "exception": false,
     "start_time": "2023-08-27T01:23:50.363012",
     "status": "completed"
    },
    "tags": []
   },
   "source": [
    "# SuperLearner attempt"
   ]
  },
  {
   "cell_type": "markdown",
   "id": "4876f551",
   "metadata": {
    "papermill": {
     "duration": 0.043413,
     "end_time": "2023-08-27T01:23:50.488171",
     "exception": false,
     "start_time": "2023-08-27T01:23:50.444758",
     "status": "completed"
    },
    "tags": []
   },
   "source": [
    "It didnt improve the score"
   ]
  },
  {
   "cell_type": "code",
   "execution_count": 44,
   "id": "f6ef90f2",
   "metadata": {
    "execution": {
     "iopub.execute_input": "2023-08-27T01:23:50.578218Z",
     "iopub.status.busy": "2023-08-27T01:23:50.576751Z",
     "iopub.status.idle": "2023-08-27T01:23:50.588027Z",
     "shell.execute_reply": "2023-08-27T01:23:50.586765Z"
    },
    "papermill": {
     "duration": 0.060944,
     "end_time": "2023-08-27T01:23:50.590830",
     "exception": false,
     "start_time": "2023-08-27T01:23:50.529886",
     "status": "completed"
    },
    "tags": []
   },
   "outputs": [],
   "source": [
    "from sklearn.ensemble import StackingClassifier\n",
    "xgb_model = Pipeline([\n",
    "    ('scaler', StandardScaler()),\n",
    "    ('imputer', SimpleImputer(strategy='median')),\n",
    "    ('xgb', XGBClassifier(subsample=1, min_child_weight=10, max_depth=3, gamma=1.5, colsample_bytree=1))\n",
    "])\n",
    "\n",
    "randomForest = Pipeline([\n",
    "    ('scaler', RobustScaler()),\n",
    "    ('imputer', KNNImputer()),\n",
    "    ('RF', RandomForestClassifier(n_estimators=200, min_samples_split=12, min_samples_leaf=5,\n",
    "                                  max_features=2, max_depth=80, bootstrap=True, n_jobs=-1))\n",
    "])\n",
    "\n",
    "gbm = Pipeline([\n",
    "    ('scaler', RobustScaler()),\n",
    "    ('imputer', KNNImputer()),\n",
    "    ('GBM', GradientBoostingClassifier(n_estimators=250, learning_rate=0.1))\n",
    "])\n",
    "\n",
    "extraTree = Pipeline([\n",
    "    ('scaler', RobustScaler()),\n",
    "    ('imputer', SimpleImputer(strategy='median')),\n",
    "    ('ET', ExtraTreesClassifier(n_estimators=1000, min_samples_split=8, min_samples_leaf=5,\n",
    "                                max_features=3, max_depth=90, bootstrap=True))\n",
    "])\n",
    "\n",
    "adaBoost = Pipeline([\n",
    "    ('scaler', RobustScaler()),\n",
    "    ('imputer', SimpleImputer(strategy='median')),\n",
    "    ('AB', AdaBoostClassifier(n_estimators=100, learning_rate=0.01))\n",
    "])\n",
    "\n",
    "# Create a list of base models\n",
    "base_models = [\n",
    "    ('xgb', xgb_model),\n",
    "    ('rf', randomForest),\n",
    "    ('gbm', gbm),\n",
    "    ('et', extraTree),\n",
    "    ('ab', adaBoost)\n",
    "]\n",
    "\n",
    "# Define XGBClassifier as the super learner (final estimator)\n",
    "super_learner = XGBClassifier(subsample=1, min_child_weight=10, max_depth=3, gamma=1.5, colsample_bytree=1)\n",
    "\n",
    "# Create the stacking classifier\n",
    "stacking_classifier = StackingClassifier(\n",
    "    estimators=base_models,\n",
    "    final_estimator=super_learner,\n",
    "    cv=5,  # You can adjust the number of cross-validation folds as needed\n",
    "    verbose = 2\n",
    ")\n",
    "\n",
    "# Train the stacking classifier on your data\n",
    "stacking_classifier.fit(train.drop(['Unnamed: 0', 'SeriousDlqin2yrs'], axis=1), train['SeriousDlqin2yrs'])\n",
    "\n",
    "print('Done fitting')\n",
    "# Make predictions using the stacking classifier\n",
    "stacking_predictions = [estimator.predict_proba(test.drop(['Unnamed: 0', 'SeriousDlqin2yrs'], axis=1)) for estimator in stacking_classifier.named_estimators_.values()]\n"
   ]
  },
  {
   "cell_type": "code",
   "execution_count": 45,
   "id": "33611795",
   "metadata": {
    "execution": {
     "iopub.execute_input": "2023-08-27T01:23:50.679735Z",
     "iopub.status.busy": "2023-08-27T01:23:50.678649Z",
     "iopub.status.idle": "2023-08-27T01:23:50.684044Z",
     "shell.execute_reply": "2023-08-27T01:23:50.682948Z"
    },
    "papermill": {
     "duration": 0.053218,
     "end_time": "2023-08-27T01:23:50.686653",
     "exception": false,
     "start_time": "2023-08-27T01:23:50.633435",
     "status": "completed"
    },
    "tags": []
   },
   "outputs": [],
   "source": [
    "# weights = [9, 7, 5, 4, 1]\n",
    "# weighted_predictions_super = sum(weight * prediction[:, 1] for weight, prediction in zip(weights, stacking_predictions)) / sum(weights)"
   ]
  },
  {
   "cell_type": "code",
   "execution_count": 46,
   "id": "65c3d31c",
   "metadata": {
    "execution": {
     "iopub.execute_input": "2023-08-27T01:23:50.784734Z",
     "iopub.status.busy": "2023-08-27T01:23:50.783521Z",
     "iopub.status.idle": "2023-08-27T01:23:50.789675Z",
     "shell.execute_reply": "2023-08-27T01:23:50.788520Z"
    },
    "papermill": {
     "duration": 0.064909,
     "end_time": "2023-08-27T01:23:50.793717",
     "exception": false,
     "start_time": "2023-08-27T01:23:50.728808",
     "status": "completed"
    },
    "tags": []
   },
   "outputs": [],
   "source": [
    "# joblib.dump(stacking_classifier, 'stacking_classifier.pkl')"
   ]
  },
  {
   "cell_type": "markdown",
   "id": "fab166f1",
   "metadata": {
    "papermill": {
     "duration": 0.050969,
     "end_time": "2023-08-27T01:23:50.900377",
     "exception": false,
     "start_time": "2023-08-27T01:23:50.849408",
     "status": "completed"
    },
    "tags": []
   },
   "source": [
    "# Submission"
   ]
  },
  {
   "cell_type": "code",
   "execution_count": 47,
   "id": "ce055c68",
   "metadata": {
    "execution": {
     "iopub.execute_input": "2023-08-27T01:23:50.987275Z",
     "iopub.status.busy": "2023-08-27T01:23:50.986515Z",
     "iopub.status.idle": "2023-08-27T01:23:51.475360Z",
     "shell.execute_reply": "2023-08-27T01:23:51.474044Z"
    },
    "papermill": {
     "duration": 0.5343,
     "end_time": "2023-08-27T01:23:51.478556",
     "exception": false,
     "start_time": "2023-08-27T01:23:50.944256",
     "status": "completed"
    },
    "tags": []
   },
   "outputs": [],
   "source": [
    "submission = pd.DataFrame({'Id': test['Unnamed: 0'], 'Probability': weighted_predictions})\n",
    "submission.index = submission['Id']\n",
    "submission.drop('Id',axis=1,inplace=True)\n",
    "submission.to_csv('submission.csv')"
   ]
  },
  {
   "cell_type": "markdown",
   "id": "3129eadb",
   "metadata": {
    "papermill": {
     "duration": 0.040871,
     "end_time": "2023-08-27T01:23:51.560257",
     "exception": false,
     "start_time": "2023-08-27T01:23:51.519386",
     "status": "completed"
    },
    "tags": []
   },
   "source": [
    "# Example of adding another model to the voting"
   ]
  },
  {
   "cell_type": "code",
   "execution_count": 48,
   "id": "364e181d",
   "metadata": {
    "execution": {
     "iopub.execute_input": "2023-08-27T01:23:51.647648Z",
     "iopub.status.busy": "2023-08-27T01:23:51.647232Z",
     "iopub.status.idle": "2023-08-27T01:24:12.282986Z",
     "shell.execute_reply": "2023-08-27T01:24:12.281457Z"
    },
    "papermill": {
     "duration": 20.683447,
     "end_time": "2023-08-27T01:24:12.286442",
     "exception": false,
     "start_time": "2023-08-27T01:23:51.602995",
     "status": "completed"
    },
    "tags": []
   },
   "outputs": [],
   "source": [
    "knn = Pipeline([\n",
    "    ('scaler', MinMaxScaler()),\n",
    "    ('imputer', SimpleImputer(strategy='median')),\n",
    "    ('KNN', KNeighborsClassifier(n_neighbors = 20, n_jobs = -1))\n",
    "])\n",
    "\n",
    "knn.fit(train.drop(['Unnamed: 0', 'SeriousDlqin2yrs'], axis=1), train['SeriousDlqin2yrs'])\n",
    "\n",
    "knn_predictions = knn.predict_proba(test.drop(['Unnamed: 0', 'SeriousDlqin2yrs'], axis=1))\n"
   ]
  },
  {
   "cell_type": "code",
   "execution_count": 49,
   "id": "b478ed3e",
   "metadata": {
    "execution": {
     "iopub.execute_input": "2023-08-27T01:24:12.372898Z",
     "iopub.status.busy": "2023-08-27T01:24:12.371854Z",
     "iopub.status.idle": "2023-08-27T01:24:12.377443Z",
     "shell.execute_reply": "2023-08-27T01:24:12.376504Z"
    },
    "papermill": {
     "duration": 0.051038,
     "end_time": "2023-08-27T01:24:12.379980",
     "exception": false,
     "start_time": "2023-08-27T01:24:12.328942",
     "status": "completed"
    },
    "tags": []
   },
   "outputs": [],
   "source": [
    "new_predictions = individual_model_predictions\n",
    "new_weights = weights\n",
    "new_predictions.append(knn_predictions)\n",
    "new_weights.append(1)"
   ]
  },
  {
   "cell_type": "markdown",
   "id": "7484e3db",
   "metadata": {
    "papermill": {
     "duration": 0.04038,
     "end_time": "2023-08-27T01:24:12.460992",
     "exception": false,
     "start_time": "2023-08-27T01:24:12.420612",
     "status": "completed"
    },
    "tags": []
   },
   "source": [
    "So you can do the weights again"
   ]
  },
  {
   "cell_type": "code",
   "execution_count": 50,
   "id": "233853bc",
   "metadata": {
    "execution": {
     "iopub.execute_input": "2023-08-27T01:24:12.545950Z",
     "iopub.status.busy": "2023-08-27T01:24:12.544738Z",
     "iopub.status.idle": "2023-08-27T01:24:12.553919Z",
     "shell.execute_reply": "2023-08-27T01:24:12.552441Z"
    },
    "papermill": {
     "duration": 0.054639,
     "end_time": "2023-08-27T01:24:12.556999",
     "exception": false,
     "start_time": "2023-08-27T01:24:12.502360",
     "status": "completed"
    },
    "tags": []
   },
   "outputs": [],
   "source": [
    "new_weighted_predictions = sum(weight * prediction[:, 1] for weight, prediction in zip(new_weights, new_predictions)) / sum(weights)"
   ]
  }
 ],
 "metadata": {
  "kernelspec": {
   "display_name": "Python 3 (ipykernel)",
   "language": "python",
   "name": "python3"
  },
  "language_info": {
   "codemirror_mode": {
    "name": "ipython",
    "version": 3
   },
   "file_extension": ".py",
   "mimetype": "text/x-python",
   "name": "python",
   "nbconvert_exporter": "python",
   "pygments_lexer": "ipython3",
   "version": "3.9.12"
  },
  "papermill": {
   "default_parameters": {},
   "duration": 1712.960835,
   "end_time": "2023-08-27T01:24:15.228566",
   "environment_variables": {},
   "exception": null,
   "input_path": "__notebook__.ipynb",
   "output_path": "__notebook__.ipynb",
   "parameters": {},
   "start_time": "2023-08-27T00:55:42.267731",
   "version": "2.4.0"
  },
  "toc": {
   "base_numbering": 1,
   "nav_menu": {},
   "number_sections": true,
   "sideBar": true,
   "skip_h1_title": false,
   "title_cell": "Table of Contents",
   "title_sidebar": "Contents",
   "toc_cell": false,
   "toc_position": {},
   "toc_section_display": true,
   "toc_window_display": false
  }
 },
 "nbformat": 4,
 "nbformat_minor": 5
}
